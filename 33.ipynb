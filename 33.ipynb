{
  "nbformat": 4,
  "nbformat_minor": 0,
  "metadata": {
    "colab": {
      "private_outputs": true,
      "provenance": [],
      "authorship_tag": "ABX9TyNFTLFinOyYArZroKtCVuEk",
      "include_colab_link": true
    },
    "kernelspec": {
      "name": "python3",
      "display_name": "Python 3"
    },
    "language_info": {
      "name": "python"
    }
  },
  "cells": [
    {
      "cell_type": "markdown",
      "metadata": {
        "id": "view-in-github",
        "colab_type": "text"
      },
      "source": [
        "<a href=\"https://colab.research.google.com/github/zakir1999/100_Days_ML/blob/main/33.ipynb\" target=\"_parent\"><img src=\"https://colab.research.google.com/assets/colab-badge.svg\" alt=\"Open In Colab\"/></a>"
      ]
    },
    {
      "cell_type": "code",
      "execution_count": null,
      "metadata": {
        "id": "CjzUE4wCwvX4"
      },
      "outputs": [],
      "source": [
        "import numpy as np\n",
        "import pandas as pd\n"
      ]
    },
    {
      "cell_type": "code",
      "source": [
        "df=pd.read_csv('titanic.csv')"
      ],
      "metadata": {
        "id": "VZ4omyngwzqY"
      },
      "execution_count": null,
      "outputs": []
    },
    {
      "cell_type": "code",
      "source": [
        "df.head()"
      ],
      "metadata": {
        "id": "Zgamzst2w9UM"
      },
      "execution_count": null,
      "outputs": []
    },
    {
      "cell_type": "code",
      "source": [
        "df.shape"
      ],
      "metadata": {
        "id": "IvzHblGyw9l6"
      },
      "execution_count": null,
      "outputs": []
    },
    {
      "cell_type": "code",
      "source": [
        "df['number'].unique()"
      ],
      "metadata": {
        "id": "IIDKqAz4yBTN"
      },
      "execution_count": null,
      "outputs": []
    },
    {
      "cell_type": "code",
      "source": [
        "fig=df['number'].value_counts().plot.bar()\n",
        "fig.set_title('Passengers travelling with')"
      ],
      "metadata": {
        "id": "OdJeZP8OyWIv"
      },
      "execution_count": null,
      "outputs": []
    },
    {
      "cell_type": "code",
      "source": [
        "#extract numerical part\n",
        "\n",
        "df['number_numerical']=pd.to_numeric(df['number'],errors='coerce',downcast='integer')"
      ],
      "metadata": {
        "id": "hEd2eW5myh_M"
      },
      "execution_count": null,
      "outputs": []
    },
    {
      "cell_type": "code",
      "source": [
        "df['number_categorical']=np.where(df['number_numerical'].isnull(),df['number'],np.nan)"
      ],
      "metadata": {
        "id": "wiOBn_8iy2KX"
      },
      "execution_count": null,
      "outputs": []
    },
    {
      "cell_type": "code",
      "source": [
        "df.head()"
      ],
      "metadata": {
        "id": "usc9lfJxzznv"
      },
      "execution_count": null,
      "outputs": []
    },
    {
      "cell_type": "code",
      "source": [
        "df['Cabin'].unique()"
      ],
      "metadata": {
        "id": "51bHA9mmz0oV"
      },
      "execution_count": null,
      "outputs": []
    },
    {
      "cell_type": "code",
      "source": [
        "df['Ticket'].unique()"
      ],
      "metadata": {
        "id": "JCt1vK8W061g"
      },
      "execution_count": null,
      "outputs": []
    },
    {
      "cell_type": "code",
      "source": [
        "df['cabin_num']=df['Cabin'].str.extract('(\\d+)')# captures numerical part\n",
        "df['cabin_cat']=df['Cabin'].str[0]\n",
        "df.head()"
      ],
      "metadata": {
        "id": "-UjBucSY0-Iv"
      },
      "execution_count": null,
      "outputs": []
    },
    {
      "cell_type": "code",
      "source": [
        "df['cabin_cat'].value_counts().plot(kind='bar')"
      ],
      "metadata": {
        "id": "Uk47DnoW1m43"
      },
      "execution_count": null,
      "outputs": []
    },
    {
      "cell_type": "code",
      "source": [
        "#extract the last bits of ticket as number\n",
        "\n",
        "df['ticket_num']=df['Ticket'].apply(lambda s:s.split()[-1])\n",
        "df['ticket_num']=pd.to_numeric(df['ticket_num'],errors='coerce',downcast='integer')\n",
        "\n",
        "#extract the first part of ticket as category\n",
        "\n",
        "df['ticket_cat']=df['Ticket'].apply(lambda s:s.split()[0])\n",
        "df['ticket_cat']=np.where(df['ticket_cat'].str.isdigit(),np.nan,df['ticket_cat'])\n",
        "\n",
        "df.head(20)\n",
        "\n"
      ],
      "metadata": {
        "id": "6Q3rSB8t5gUA"
      },
      "execution_count": null,
      "outputs": []
    },
    {
      "cell_type": "code",
      "source": [
        "df['ticket_cat'].unique()"
      ],
      "metadata": {
        "id": "BfVU5H-D7Jd-"
      },
      "execution_count": null,
      "outputs": []
    },
    {
      "cell_type": "code",
      "source": [],
      "metadata": {
        "id": "pt5DDD3GJimI"
      },
      "execution_count": null,
      "outputs": []
    }
  ]
}