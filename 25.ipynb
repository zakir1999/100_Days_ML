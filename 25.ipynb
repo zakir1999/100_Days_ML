{
  "nbformat": 4,
  "nbformat_minor": 0,
  "metadata": {
    "colab": {
      "private_outputs": true,
      "provenance": [],
      "authorship_tag": "ABX9TyOOFUjRXin6enZb25utgygd",
      "include_colab_link": true
    },
    "kernelspec": {
      "name": "python3",
      "display_name": "Python 3"
    },
    "language_info": {
      "name": "python"
    }
  },
  "cells": [
    {
      "cell_type": "markdown",
      "metadata": {
        "id": "view-in-github",
        "colab_type": "text"
      },
      "source": [
        "<a href=\"https://colab.research.google.com/github/zakir1999/100_Days_ML/blob/main/25.ipynb\" target=\"_parent\"><img src=\"https://colab.research.google.com/assets/colab-badge.svg\" alt=\"Open In Colab\"/></a>"
      ]
    },
    {
      "cell_type": "markdown",
      "source": [
        "# Normalization\n",
        "\n",
        "\n",
        "\n",
        "*   MinMaxScaling\n",
        "*   Mean Normalization\n",
        "\n",
        "\n",
        "*   Max Absulte\n",
        "*   Robust Scaling\n",
        "\n",
        "\n",
        "\n",
        "\n",
        "\n"
      ],
      "metadata": {
        "id": "SptLJ_6O0D6V"
      }
    },
    {
      "cell_type": "markdown",
      "source": [
        "# MinMaxScaling"
      ],
      "metadata": {
        "id": "_QJ42YRB0vdn"
      }
    },
    {
      "cell_type": "code",
      "execution_count": null,
      "metadata": {
        "id": "srK0ZKH_z5i8"
      },
      "outputs": [],
      "source": [
        "import pandas as pd\n",
        "import numpy as np\n",
        "import matplotlib.pyplot as plt\n",
        "import seaborn as sns\n"
      ]
    },
    {
      "cell_type": "code",
      "source": [
        "# df=pd.read_csv('wine_data.csv')\n",
        "# df"
      ],
      "metadata": {
        "id": "gELJnbzd2Z8_"
      },
      "execution_count": null,
      "outputs": []
    },
    {
      "cell_type": "code",
      "source": [
        "df=pd.read_csv('wine_data.csv',header=None,usecols=[0,1,2])\n",
        "df.columns=['Class label','Alcohol','Malic acid']\n",
        "df"
      ],
      "metadata": {
        "id": "2zJjrQFf2DWu"
      },
      "execution_count": null,
      "outputs": []
    },
    {
      "cell_type": "code",
      "source": [
        "sns.kdeplot(df['Alcohol'])"
      ],
      "metadata": {
        "id": "pOxc8feJ2VB7"
      },
      "execution_count": null,
      "outputs": []
    },
    {
      "cell_type": "code",
      "source": [
        "sns.kdeplot(df['Malic acid'])"
      ],
      "metadata": {
        "id": "Ni1OtIH322Ou"
      },
      "execution_count": null,
      "outputs": []
    },
    {
      "cell_type": "code",
      "source": [
        "color_dict={1:'red',2:'green',3:'blue'}\n",
        "sns.scatterplot(x=df['Alcohol'],y=df['Malic acid'],hue=df['Class label'],palette=color_dict)"
      ],
      "metadata": {
        "id": "tm59MSO33BWL"
      },
      "execution_count": null,
      "outputs": []
    },
    {
      "cell_type": "code",
      "source": [
        "from sklearn.model_selection import train_test_split\n",
        "x_train,x_test,y_train,y_test=train_test_split(df.drop('Class label',axis=1),df['Class label'],test_size=0.3,random_state=0)"
      ],
      "metadata": {
        "id": "n4KSuJHz3akt"
      },
      "execution_count": null,
      "outputs": []
    },
    {
      "cell_type": "code",
      "source": [
        "x_train.shape,x_test.shape"
      ],
      "metadata": {
        "id": "ZQnKMivR4DaM"
      },
      "execution_count": null,
      "outputs": []
    },
    {
      "cell_type": "code",
      "source": [
        "from sklearn.preprocessing import MinMaxScaler\n",
        "scaler=MinMaxScaler()\n",
        "scaler.fit(x_train)\n",
        "x_train_scaled=scaler.transform(x_train)\n",
        "x_test_scaled=scaler.transform(x_test)"
      ],
      "metadata": {
        "id": "FQYG22AH4ITM"
      },
      "execution_count": null,
      "outputs": []
    },
    {
      "cell_type": "code",
      "source": [
        "x_train_scaled=pd.DataFrame(x_train_scaled,columns=x_train.columns)\n",
        "x_test_scaled=pd.DataFrame(x_test_scaled,columns=x_test.columns)"
      ],
      "metadata": {
        "id": "0XbE0KQ44hWz"
      },
      "execution_count": null,
      "outputs": []
    },
    {
      "cell_type": "code",
      "source": [
        "np.round(x_train.describe(),1)"
      ],
      "metadata": {
        "id": "BGGzgLBU4ygL"
      },
      "execution_count": null,
      "outputs": []
    },
    {
      "cell_type": "code",
      "source": [
        "np.round(x_train_scaled.describe(),1)"
      ],
      "metadata": {
        "id": "BLZM_Lp042Dh"
      },
      "execution_count": null,
      "outputs": []
    },
    {
      "cell_type": "code",
      "source": [
        "fig,(ax1,ax2)=plt.subplots(ncols=2,figsize=(12,5))\n",
        "ax1.scatter(x_train['Alcohol'],x_train['Malic acid'],c=y_train)\n",
        "ax1.set_title('Before Scaling')\n",
        "ax2.scatter(x_train_scaled['Alcohol'],x_train_scaled['Malic acid'],c=y_train)\n",
        "ax2.set_title('After Scaling')\n",
        "plt.show()"
      ],
      "metadata": {
        "id": "E6G-XbRJ5D2n"
      },
      "execution_count": null,
      "outputs": []
    },
    {
      "cell_type": "code",
      "source": [
        "fig, (ax1,ax2)=plt.subplots(ncols=2,figsize=(12,5))\n",
        "#before scaling\n",
        "ax1.set_title('Before Scaling')\n",
        "sns.kdeplot(x_train['Alcohol'],ax=ax1)\n",
        "sns.kdeplot(x_train['Malic acid'],ax=ax1)\n",
        "\n",
        "#After Scaling\n",
        "ax2.set_title('After Standard Scaling')\n",
        "sns.kdeplot(x_train_scaled['Alcohol'],ax=ax2)\n",
        "sns.kdeplot(x_train_scaled['Malic acid'],ax=ax2)\n",
        "plt.show()"
      ],
      "metadata": {
        "id": "mDUdcrZK5723"
      },
      "execution_count": null,
      "outputs": []
    },
    {
      "cell_type": "code",
      "source": [
        "fig, (ax1, ax2) = plt.subplots(ncols=2, figsize=(12, 5))\n",
        "\n",
        "# before scaling\n",
        "ax1.set_title('Alcohol Distribution Before Scaling')\n",
        "sns.kdeplot(x_train['Alcohol'], ax=ax1)\n",
        "\n",
        "# after scaling\n",
        "ax2.set_title('Alcohol Distribution After Standard Scaling')\n",
        "sns.kdeplot(x_train_scaled['Alcohol'], ax=ax2)\n",
        "plt.show()"
      ],
      "metadata": {
        "id": "8qnQkYkj6jEd"
      },
      "execution_count": null,
      "outputs": []
    },
    {
      "cell_type": "code",
      "source": [
        "fig, (ax1, ax2) = plt.subplots(ncols=2, figsize=(12, 5))\n",
        "\n",
        "# before scaling\n",
        "ax1.set_title('Malic acid Distribution Before Scaling')\n",
        "sns.kdeplot(x_train['Malic acid'], ax=ax1)\n",
        "\n",
        "# after scaling\n",
        "ax2.set_title('Malic acid Distribution After Standard Scaling')\n",
        "sns.kdeplot(x_train_scaled['Malic acid'], ax=ax2)\n",
        "plt.show()"
      ],
      "metadata": {
        "id": "jOCpHmej7WXt"
      },
      "execution_count": null,
      "outputs": []
    },
    {
      "cell_type": "markdown",
      "source": [
        "\n",
        "\n",
        "# Mean Normalization\n",
        "Xi=(Xi-Xmean)/(Xmax-Xmin)\n",
        "\n",
        "\n",
        "### Data comes to centalized\n"
      ],
      "metadata": {
        "id": "vJfRUr_I8WEo"
      }
    },
    {
      "cell_type": "markdown",
      "source": [
        "# MaxAbsScaling\n",
        "\n",
        "Xi=Xi/abs(Xmax)\n",
        "### Used sparse data(Where many zero are available)"
      ],
      "metadata": {
        "id": "j1sfn93M80S1"
      }
    },
    {
      "cell_type": "markdown",
      "source": [
        "# Robust Scaling\n",
        "\n",
        "Xi=Xi-X(median)/IQR\n",
        "\n",
        "\n",
        "{75 th percentile -25th percentile value}\n",
        "\n",
        "If data has lots of outlier then used Robust Scaling\n",
        "\n",
        "\n",
        "\n",
        "\n"
      ],
      "metadata": {
        "id": "bIPeOdPf9itz"
      }
    },
    {
      "cell_type": "code",
      "source": [],
      "metadata": {
        "id": "SlmBEWGK8bDb"
      },
      "execution_count": null,
      "outputs": []
    }
  ]
}