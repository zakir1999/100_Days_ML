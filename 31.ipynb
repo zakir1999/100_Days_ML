{
  "nbformat": 4,
  "nbformat_minor": 0,
  "metadata": {
    "colab": {
      "private_outputs": true,
      "provenance": [],
      "authorship_tag": "ABX9TyM+ZwSdtbCF0YcMTpcNCaJk",
      "include_colab_link": true
    },
    "kernelspec": {
      "name": "python3",
      "display_name": "Python 3"
    },
    "language_info": {
      "name": "python"
    }
  },
  "cells": [
    {
      "cell_type": "markdown",
      "metadata": {
        "id": "view-in-github",
        "colab_type": "text"
      },
      "source": [
        "<a href=\"https://colab.research.google.com/github/zakir1999/100_Days_ML/blob/main/31.ipynb\" target=\"_parent\"><img src=\"https://colab.research.google.com/assets/colab-badge.svg\" alt=\"Open In Colab\"/></a>"
      ]
    },
    {
      "cell_type": "markdown",
      "source": [
        "\n",
        "# Power Tranformer\n",
        "\n",
        "1.   Box-cox Transform\n",
        "2.   Yeo-Johnson_lambdas\n",
        "\n",
        "\n"
      ],
      "metadata": {
        "id": "coCUndS4-Gfw"
      }
    },
    {
      "cell_type": "code",
      "execution_count": null,
      "metadata": {
        "id": "tY2_mQ_c9eLY"
      },
      "outputs": [],
      "source": [
        "import numpy as np\n",
        "import pandas as pd\n",
        "import seaborn as sns\n",
        "import matplotlib.pyplot as plt\n",
        "import scipy.stats as stats"
      ]
    },
    {
      "cell_type": "code",
      "source": [
        "from sklearn.model_selection import train_test_split\n",
        "from sklearn.model_selection import cross_val_score\n",
        "\n",
        "\n",
        "from sklearn.linear_model import LinearRegression\n",
        "\n",
        "from sklearn.metrics import r2_score\n",
        "from sklearn.preprocessing import PowerTransformer"
      ],
      "metadata": {
        "id": "0U8F4fmIZg5o"
      },
      "execution_count": null,
      "outputs": []
    },
    {
      "cell_type": "code",
      "source": [
        "df=pd.read_csv('concrete_data.csv')"
      ],
      "metadata": {
        "id": "W7m6isC3bMFk"
      },
      "execution_count": null,
      "outputs": []
    },
    {
      "cell_type": "code",
      "source": [
        "df.head()"
      ],
      "metadata": {
        "id": "aS-YU5eLcq9h"
      },
      "execution_count": null,
      "outputs": []
    },
    {
      "cell_type": "code",
      "source": [
        "df.isnull().sum()"
      ],
      "metadata": {
        "id": "cPQvFlM5cswz"
      },
      "execution_count": null,
      "outputs": []
    },
    {
      "cell_type": "code",
      "source": [
        "df.describe()"
      ],
      "metadata": {
        "id": "otr_hJMEcxaL"
      },
      "execution_count": null,
      "outputs": []
    },
    {
      "cell_type": "code",
      "source": [
        "x=df.drop(columns=['Strength'])\n",
        "y=df.iloc[:,-1]"
      ],
      "metadata": {
        "id": "UN43aNISc42r"
      },
      "execution_count": null,
      "outputs": []
    },
    {
      "cell_type": "code",
      "source": [
        "x_train,y_train,x_test,y_test=train_test_split(x,y,test_size=0.2,random_state=42)"
      ],
      "metadata": {
        "id": "v24P6vspdBjk"
      },
      "execution_count": null,
      "outputs": []
    },
    {
      "cell_type": "code",
      "source": [
        "#Applying Regression without any transformation\n",
        "lr=LinearRegression()\n",
        "lr.fit(x_train,x_test)\n",
        "y_pred=lr.predict(y_train)\n",
        "r2_score(y_test,y_pred)"
      ],
      "metadata": {
        "id": "60lsDhHAeyrr"
      },
      "execution_count": null,
      "outputs": []
    },
    {
      "cell_type": "code",
      "source": [
        "#Cross checking with cross val score\n",
        "lr=LinearRegression()\n",
        "np.mean(cross_val_score(lr,x,y,scoring='r2'))\n"
      ],
      "metadata": {
        "id": "nZ1LzbpBe5c0"
      },
      "execution_count": null,
      "outputs": []
    },
    {
      "cell_type": "code",
      "source": [
        "for col in x_train.columns:\n",
        "  plt.figure(figsize=(14,4))\n",
        "  plt.subplot(121)\n",
        "  sns.distplot(x_train[col])\n",
        "  plt.title(col)\n",
        "\n",
        "  plt.subplot(122)\n",
        "  stats.probplot(x_train[col],dist='norm',plot=plt)\n",
        "  plt.title(col)\n",
        "  plt.show()"
      ],
      "metadata": {
        "id": "UVWTJqctgXlV"
      },
      "execution_count": null,
      "outputs": []
    },
    {
      "cell_type": "code",
      "source": [],
      "metadata": {
        "id": "_pWAJyU_hH2m"
      },
      "execution_count": null,
      "outputs": []
    }
  ]
}