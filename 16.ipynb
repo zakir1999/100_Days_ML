{
  "nbformat": 4,
  "nbformat_minor": 0,
  "metadata": {
    "colab": {
      "private_outputs": true,
      "provenance": [],
      "authorship_tag": "ABX9TyMtlBLD/veD30SHOuTcrPte",
      "include_colab_link": true
    },
    "kernelspec": {
      "name": "python3",
      "display_name": "Python 3"
    },
    "language_info": {
      "name": "python"
    }
  },
  "cells": [
    {
      "cell_type": "markdown",
      "metadata": {
        "id": "view-in-github",
        "colab_type": "text"
      },
      "source": [
        "<a href=\"https://colab.research.google.com/github/zakir1999/100_Days_ML/blob/main/16.ipynb\" target=\"_parent\"><img src=\"https://colab.research.google.com/assets/colab-badge.svg\" alt=\"Open In Colab\"/></a>"
      ]
    },
    {
      "cell_type": "code",
      "execution_count": null,
      "metadata": {
        "id": "tHaxZGwI1XzA"
      },
      "outputs": [],
      "source": [
        "import pandas as pd"
      ]
    },
    {
      "cell_type": "markdown",
      "source": [
        "# Working with Json"
      ],
      "metadata": {
        "id": "Uk8bZc513xsq"
      }
    },
    {
      "cell_type": "code",
      "source": [
        "df=pd.read_json('train.json')"
      ],
      "metadata": {
        "id": "7S6LelwP16oL"
      },
      "execution_count": null,
      "outputs": []
    },
    {
      "cell_type": "code",
      "source": [
        "df"
      ],
      "metadata": {
        "id": "UA-D_ew42p2D"
      },
      "execution_count": null,
      "outputs": []
    },
    {
      "cell_type": "code",
      "source": [
        "\n",
        "##"
      ],
      "metadata": {
        "id": "0HP_IZC82qlZ"
      },
      "execution_count": null,
      "outputs": []
    },
    {
      "cell_type": "markdown",
      "source": [
        "#IF you want to open sql data set then at first you have to download sql dataset and xammp software.After that open localhost and upload sql file to xammp."
      ],
      "metadata": {
        "id": "frGrfdQP4gdM"
      }
    },
    {
      "cell_type": "markdown",
      "source": [],
      "metadata": {
        "id": "i5USKGzq4zNy"
      }
    },
    {
      "cell_type": "code",
      "source": [
        "import mysql.connector\n",
        "conn=mysql.connector.connection(host='localhost',user='root',password='',database='database_name')\n",
        "\n",
        "pd.read_sql_query(\"SELECT * FROM city\",conn)"
      ],
      "metadata": {
        "id": "EDZFpI0e3f75"
      },
      "execution_count": null,
      "outputs": []
    }
  ]
}