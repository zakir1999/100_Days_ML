{
  "nbformat": 4,
  "nbformat_minor": 0,
  "metadata": {
    "colab": {
      "private_outputs": true,
      "provenance": [],
      "authorship_tag": "ABX9TyO27Sj1ZhFuaFMXDpQ6+Fsj",
      "include_colab_link": true
    },
    "kernelspec": {
      "name": "python3",
      "display_name": "Python 3"
    },
    "language_info": {
      "name": "python"
    }
  },
  "cells": [
    {
      "cell_type": "markdown",
      "metadata": {
        "id": "view-in-github",
        "colab_type": "text"
      },
      "source": [
        "<a href=\"https://colab.research.google.com/github/zakir1999/100_Days_ML/blob/main/36_1.ipynb\" target=\"_parent\"><img src=\"https://colab.research.google.com/assets/colab-badge.svg\" alt=\"Open In Colab\"/></a>"
      ]
    },
    {
      "cell_type": "code",
      "execution_count": null,
      "metadata": {
        "id": "y-asSBYJJWIy"
      },
      "outputs": [],
      "source": [
        "import pandas as pd\n",
        "import numpy as np\n",
        "import matplotlib.pyplot as plt\n",
        "import seaborn as sns\n",
        "import plotly.express as px\n"
      ]
    },
    {
      "cell_type": "code",
      "source": [
        "from sklearn.model_selection import train_test_split\n",
        "from sklearn.impute import SimpleImputer\n",
        "from sklearn.compose import ColumnTransformer\n",
        "from sklearn.preprocessing import OneHotEncoder, StandardScaler\n",
        "from sklearn.pipeline import Pipeline\n",
        "from sklearn.linear_model import LinearRegression\n",
        "from sklearn.metrics import mean_squared_error, r2_score"
      ],
      "metadata": {
        "id": "JNfP7HcrJi5r"
      },
      "execution_count": null,
      "outputs": []
    },
    {
      "cell_type": "code",
      "source": [
        "df=pd.read_csv('titanic_toy.csv')"
      ],
      "metadata": {
        "id": "ROUy6b1VJzBg"
      },
      "execution_count": null,
      "outputs": []
    },
    {
      "cell_type": "code",
      "source": [
        "df.head()"
      ],
      "metadata": {
        "id": "YHPHFnsvJ98u"
      },
      "execution_count": null,
      "outputs": []
    },
    {
      "cell_type": "code",
      "source": [
        "df.isnull().mean()*100"
      ],
      "metadata": {
        "id": "-xrY1gp_J_O-"
      },
      "execution_count": null,
      "outputs": []
    },
    {
      "cell_type": "code",
      "source": [
        "x=df.drop(columns=['Survived'])\n",
        "y=df['Survived']"
      ],
      "metadata": {
        "id": "xniOiHTaKByf"
      },
      "execution_count": null,
      "outputs": []
    },
    {
      "cell_type": "code",
      "source": [
        "x_train,x_test,y_train,y_test=train_test_split(x,y,test_size=0.2,random_state=42)"
      ],
      "metadata": {
        "id": "kwA2Yuq1KNHe"
      },
      "execution_count": null,
      "outputs": []
    },
    {
      "cell_type": "code",
      "source": [
        "x_train['Age_99']=x_train['Age'].fillna(99)\n",
        "x_train['Age_minus1']=x_train['Age'].fillna(-1)\n",
        "\n",
        "x_train['Fare_999']=x_train['Fare'].fillna(999)\n",
        "x_train['Fare_minus1']=x_train['Fare'].fillna(-1)"
      ],
      "metadata": {
        "id": "1uuAoWFPKQk_"
      },
      "execution_count": null,
      "outputs": []
    },
    {
      "cell_type": "code",
      "source": [
        "\n",
        "print('Original Age variable variance: ', x_train['Age'].var())\n",
        "print('Age Variance after 99 wala imputation: ', x_train['Age_99'].var())\n",
        "print('Age Variance after -1 wala imputation: ', x_train['Age_minus1'].var())\n",
        "\n",
        "print('Original Fare variable variance: ', x_train['Fare'].var())\n",
        "print('Fare Variance after 999 wala imputation: ', x_train['Fare_999'].var())\n",
        "print('Fare Variance after -1 wala imputation: ', x_train['Fare_minus1'].var())"
      ],
      "metadata": {
        "id": "ZMdyzxU5K8bC"
      },
      "execution_count": null,
      "outputs": []
    },
    {
      "cell_type": "code",
      "source": [
        "fig=plt.figure()\n",
        "ax=fig.add_subplot(111)\n",
        "\n",
        "# Original variable distribution\n",
        "x_train['Age'].plot(kind='kde',ax=ax)\n",
        "#Variable imputed with the medican\n",
        "x_train['Age_99'].plot(kind='kde',ax=ax,color='red')\n",
        "\n",
        "#variable imputed with the mean\n",
        "\n",
        "x_train['Age_minus1'].plot(kind='kde',ax=ax,color='green')\n",
        "\n",
        "#add Legends\n",
        "\n",
        "lines,labels=ax.get_legend_handles_labels()\n",
        "ax.legend(lines,labels,loc='best')"
      ],
      "metadata": {
        "id": "Wj6OMRX0LQvA"
      },
      "execution_count": null,
      "outputs": []
    },
    {
      "cell_type": "code",
      "source": [
        "fig=plt.figure()\n",
        "ax=fig.add_subplot(111)\n",
        "\n",
        "#Original variable distribution\n",
        "x_train['Fare'].plot(kind='kde',ax=ax)\n",
        "#variable imputed with the median\n",
        "\n",
        "x_train['Fare_999'].plot(kind='kde',ax=ax,color='red')\n",
        "\n",
        "#variable imputed with the mean\n",
        "\n",
        "x_train['Fare_minus1'].plot(kind='kde',ax=ax,color='green')\n",
        "\n",
        "lines,labels=ax.get_legend_handles_labels()\n",
        "ax.legend(lines,labels,loc='best')"
      ],
      "metadata": {
        "id": "WHIeGHwhMp6P"
      },
      "execution_count": null,
      "outputs": []
    },
    {
      "cell_type": "code",
      "source": [
        "x_train.cov()"
      ],
      "metadata": {
        "id": "6q2m3SC7Nata"
      },
      "execution_count": null,
      "outputs": []
    },
    {
      "cell_type": "code",
      "source": [
        "x_train.corr()"
      ],
      "metadata": {
        "id": "f2XA7f1ENkMN"
      },
      "execution_count": null,
      "outputs": []
    },
    {
      "cell_type": "markdown",
      "source": [
        "\n",
        "\n",
        "# Using sklearn\n",
        "\n"
      ],
      "metadata": {
        "id": "NCkE6H6pcNu9"
      }
    },
    {
      "cell_type": "code",
      "source": [
        "x_train,x_test,y_train,y_test=train_test_split(x,y,test_size=0.2,random_state=2)\n",
        "imputer1=SimpleImputer(strategy='constant',fill_value=99)\n",
        "imputer2=SimpleImputer(strategy='constant',fill_value=999)\n"
      ],
      "metadata": {
        "id": "UZGBf8ryNpRH"
      },
      "execution_count": null,
      "outputs": []
    },
    {
      "cell_type": "code",
      "source": [
        "trf=ColumnTransformer([('imputer1',imputer1,['Age']),('imputer2',imputer2,['Fare'])],remainder='passthrough')"
      ],
      "metadata": {
        "id": "ERiOTUeVcyd1"
      },
      "execution_count": null,
      "outputs": []
    },
    {
      "cell_type": "code",
      "source": [
        "trf.fit(x_train)"
      ],
      "metadata": {
        "id": "-ZEA0KkedLYo"
      },
      "execution_count": null,
      "outputs": []
    },
    {
      "cell_type": "code",
      "source": [
        "trf.named_transformers_['imputer1'].statistics_"
      ],
      "metadata": {
        "id": "vPP7o3rDdNav"
      },
      "execution_count": null,
      "outputs": []
    },
    {
      "cell_type": "code",
      "source": [
        "trf.named_transformers_['imputer2'].statistics_"
      ],
      "metadata": {
        "id": "rwLjoUqndWoG"
      },
      "execution_count": null,
      "outputs": []
    },
    {
      "cell_type": "code",
      "source": [
        "x_train=trf.transform(x_train)\n",
        "x_test=trf.transform(x_test)\n",
        "\n",
        "x_train"
      ],
      "metadata": {
        "id": "wGXxgtOrdaF3"
      },
      "execution_count": null,
      "outputs": []
    },
    {
      "cell_type": "code",
      "source": [],
      "metadata": {
        "id": "oY8SXvICdjFu"
      },
      "execution_count": null,
      "outputs": []
    }
  ]
}