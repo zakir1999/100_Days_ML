{
  "nbformat": 4,
  "nbformat_minor": 0,
  "metadata": {
    "colab": {
      "private_outputs": true,
      "provenance": [],
      "authorship_tag": "ABX9TyNtkFfPbvqdUhzOCdkN7NHC",
      "include_colab_link": true
    },
    "kernelspec": {
      "name": "python3",
      "display_name": "Python 3"
    },
    "language_info": {
      "name": "python"
    }
  },
  "cells": [
    {
      "cell_type": "markdown",
      "metadata": {
        "id": "view-in-github",
        "colab_type": "text"
      },
      "source": [
        "<a href=\"https://colab.research.google.com/github/zakir1999/100_Days_ML/blob/main/32.ipynb\" target=\"_parent\"><img src=\"https://colab.research.google.com/assets/colab-badge.svg\" alt=\"Open In Colab\"/></a>"
      ]
    },
    {
      "cell_type": "markdown",
      "source": [
        "# Encoding Numerical Features"
      ],
      "metadata": {
        "id": "zhP0pXUW04An"
      }
    },
    {
      "cell_type": "markdown",
      "source": [
        "# Discretization\n",
        "## Type of Discretization\n",
        "\n",
        "\n",
        "\n",
        "1.   Unsupervised\n",
        "\n",
        "\n",
        "*  Equal width\n",
        "*  Equal Frequencey\n",
        "*  KMeans binning\n",
        "\n",
        "1.   Supuervised\n",
        "*   Decision Tree Binning\n",
        "\n",
        "3.   Customs Binning\n",
        "\n"
      ],
      "metadata": {
        "id": "nQd_w9QRJGur"
      }
    },
    {
      "cell_type": "markdown",
      "source": [],
      "metadata": {
        "id": "46wWTwLHJGlz"
      }
    },
    {
      "cell_type": "code",
      "source": [
        "import pandas as pd\n",
        "import numpy as np"
      ],
      "metadata": {
        "id": "AXhKPwpEJFyH"
      },
      "execution_count": null,
      "outputs": []
    },
    {
      "cell_type": "code",
      "source": [
        "import matplotlib.pyplot as plt\n",
        "from sklearn.model_selection import train_test_split\n",
        "from sklearn.model_selection import cross_val_score\n",
        "\n",
        "from sklearn.metrics import accuracy_score\n",
        "from sklearn.tree import DecisionTreeClassifier\n",
        "from sklearn.preprocessing import KBinsDiscretizer\n",
        "from sklearn.compose import ColumnTransformer"
      ],
      "metadata": {
        "id": "1cjSpDsT09qe"
      },
      "execution_count": null,
      "outputs": []
    },
    {
      "cell_type": "code",
      "source": [
        "df=pd.read_csv('train.csv',usecols=['Age','Fare','Survived'])"
      ],
      "metadata": {
        "id": "GAOv_Z1dGkDR"
      },
      "execution_count": null,
      "outputs": []
    },
    {
      "cell_type": "code",
      "source": [
        "df.dropna(inplace=True)"
      ],
      "metadata": {
        "id": "XI0TdnSjGoWZ"
      },
      "execution_count": null,
      "outputs": []
    },
    {
      "cell_type": "code",
      "source": [
        "\n",
        "df.shape"
      ],
      "metadata": {
        "id": "h1yfAL30Gr3e"
      },
      "execution_count": null,
      "outputs": []
    },
    {
      "cell_type": "code",
      "source": [
        "df.head()"
      ],
      "metadata": {
        "id": "71HSDJ1JGs6l"
      },
      "execution_count": null,
      "outputs": []
    },
    {
      "cell_type": "code",
      "source": [
        "x=df.iloc[:,1:]\n",
        "y=df.iloc[:,0]"
      ],
      "metadata": {
        "id": "Cp9HWabVGtys"
      },
      "execution_count": null,
      "outputs": []
    },
    {
      "cell_type": "code",
      "source": [
        "x_train,x_test,y_train,y_test=train_test_split(x,y,test_size=0.2,random_state=42)"
      ],
      "metadata": {
        "id": "2Y1zWiKFG-Qf"
      },
      "execution_count": null,
      "outputs": []
    },
    {
      "cell_type": "code",
      "source": [
        "x_train.head()"
      ],
      "metadata": {
        "id": "CS7Tl1xXHHKm"
      },
      "execution_count": null,
      "outputs": []
    },
    {
      "cell_type": "code",
      "source": [
        "x_test.head()"
      ],
      "metadata": {
        "id": "EcwP-z2CHIjW"
      },
      "execution_count": null,
      "outputs": []
    },
    {
      "cell_type": "code",
      "source": [
        "clf=DecisionTreeClassifier()\n",
        "clf.fit(x_train,y_train)\n",
        "y_pred=clf.predict(x_test)"
      ],
      "metadata": {
        "id": "JvPQpCzUHLUV"
      },
      "execution_count": null,
      "outputs": []
    },
    {
      "cell_type": "code",
      "source": [
        "accuracy_score(y_test,y_pred)"
      ],
      "metadata": {
        "id": "nV5IXpJTHVDX"
      },
      "execution_count": null,
      "outputs": []
    },
    {
      "cell_type": "code",
      "source": [
        "np.mean(cross_val_score(DecisionTreeClassifier(),x,y,cv=10,scoring='accuracy'))"
      ],
      "metadata": {
        "id": "cRdKiNtnHbbX"
      },
      "execution_count": null,
      "outputs": []
    },
    {
      "cell_type": "code",
      "source": [
        "kbin_age=KBinsDiscretizer(n_bins=15,encode='ordinal',strategy='quantile')\n",
        "kbin_fare=KBinsDiscretizer(n_bins=15,encode='ordinal',strategy='quantile')"
      ],
      "metadata": {
        "id": "Gv_zKJS9HmMf"
      },
      "execution_count": null,
      "outputs": []
    },
    {
      "cell_type": "code",
      "source": [
        "trf=ColumnTransformer([\n",
        "    ('first',kbin_age,[0]),\n",
        "    ('second',kbin_fare,[1])\n",
        "])"
      ],
      "metadata": {
        "id": "yjENmYnWH7X_"
      },
      "execution_count": null,
      "outputs": []
    },
    {
      "cell_type": "code",
      "source": [
        "x_train_trf=trf.fit_transform(x_train)\n",
        "x_test_trf=trf.transform(x_test)"
      ],
      "metadata": {
        "id": "UNAra51eIMSR"
      },
      "execution_count": null,
      "outputs": []
    },
    {
      "cell_type": "code",
      "source": [
        "trf.named_transformers_['first'].bin_edges_"
      ],
      "metadata": {
        "id": "DzkRL-KlIWLf"
      },
      "execution_count": null,
      "outputs": []
    },
    {
      "cell_type": "code",
      "source": [
        "output=pd.DataFrame({\n",
        "    'age':x_train['Age'],\n",
        "    'age_trf':x_train_trf[:,0],\n",
        "    'fare':x_train['Fare'],\n",
        "    'fare_trf':x_train_trf[:,1]\n",
        "})"
      ],
      "metadata": {
        "id": "jbcSQ12LIj_W"
      },
      "execution_count": null,
      "outputs": []
    },
    {
      "cell_type": "code",
      "source": [
        "output['age_labels'] = pd.cut(x=x_train['Age'],\n",
        "                                    bins=trf.named_transformers_['first'].bin_edges_[0].tolist())\n",
        "output['fare_labels'] = pd.cut(x=x_train['Fare'],\n",
        "                                    bins=trf.named_transformers_['second'].bin_edges_[0].tolist())"
      ],
      "metadata": {
        "id": "fZgi4M_wJCso"
      },
      "execution_count": null,
      "outputs": []
    },
    {
      "cell_type": "code",
      "source": [
        "output.sample(5)"
      ],
      "metadata": {
        "id": "CHVIhcZnJO63"
      },
      "execution_count": null,
      "outputs": []
    },
    {
      "cell_type": "code",
      "source": [
        "\n",
        "clf = DecisionTreeClassifier()\n",
        "clf.fit(x_train_trf,y_train)\n",
        "y_pred2 = clf.predict(x_test_trf)"
      ],
      "metadata": {
        "id": "ms8WE4MRJRAm"
      },
      "execution_count": null,
      "outputs": []
    },
    {
      "cell_type": "code",
      "source": [
        "accuracy_score(y_test,y_pred2)\n"
      ],
      "metadata": {
        "id": "fSAJDVKGJQ43"
      },
      "execution_count": null,
      "outputs": []
    },
    {
      "cell_type": "code",
      "source": [
        "\n",
        "x_trf = trf.fit_transform(x)\n",
        "np.mean(cross_val_score(DecisionTreeClassifier(),x,y,cv=10,scoring='accuracy'))"
      ],
      "metadata": {
        "id": "7Rp9bDCkJVie"
      },
      "execution_count": null,
      "outputs": []
    },
    {
      "cell_type": "code",
      "source": [
        "def discretize(bins,strategy):\n",
        "    kbin_age = KBinsDiscretizer(n_bins=bins,encode='ordinal',strategy=strategy)\n",
        "    kbin_fare = KBinsDiscretizer(n_bins=bins,encode='ordinal',strategy=strategy)\n",
        "\n",
        "    trf = ColumnTransformer([\n",
        "        ('first',kbin_age,[0]),\n",
        "        ('second',kbin_fare,[1])\n",
        "    ])\n",
        "\n",
        "    x_trf = trf.fit_transform(x)\n",
        "    print(np.mean(cross_val_score(DecisionTreeClassifier(),x,y,cv=10,scoring='accuracy')))\n",
        "\n",
        "    plt.figure(figsize=(14,4))\n",
        "    plt.subplot(121)\n",
        "    plt.hist(x['Age'])\n",
        "    plt.title(\"Before\")\n",
        "\n",
        "    plt.subplot(122)\n",
        "    plt.hist(x_trf[:,0],color='red')\n",
        "    plt.title(\"After\")\n",
        "\n",
        "    plt.show()\n",
        "\n",
        "    plt.figure(figsize=(14,4))\n",
        "    plt.subplot(121)\n",
        "    plt.hist(x['Fare'])\n",
        "    plt.title(\"Before\")\n",
        "\n",
        "    plt.subplot(122)\n",
        "    plt.hist(x_trf[:,1],color='red')\n",
        "    plt.title(\"Fare\")\n",
        "\n",
        "    plt.show()\n",
        ""
      ],
      "metadata": {
        "id": "HAotMggjJX6a"
      },
      "execution_count": null,
      "outputs": []
    },
    {
      "cell_type": "code",
      "source": [
        "discretize(5,'kmeans')\n"
      ],
      "metadata": {
        "id": "b5fsY-NbJu9i"
      },
      "execution_count": null,
      "outputs": []
    }
  ]
}