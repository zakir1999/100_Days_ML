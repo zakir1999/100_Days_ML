{
 "cells": [
  {
   "cell_type": "code",
   "execution_count": 8,
   "id": "c331758a",
   "metadata": {
    "scrolled": true
   },
   "outputs": [
    {
     "data": {
      "text/plain": [
       "14"
      ]
     },
     "execution_count": 8,
     "metadata": {},
     "output_type": "execute_result"
    }
   ],
   "source": [
    "#Data analysis with python\n",
    "\n",
    "#All type of Arithmetic operation\n",
    "#Division '/' return flot point number but if we want to interger part of division we have use '//'\n",
    "\n",
    "2+3+9\n",
    "\n",
    "\n",
    "99-45\n",
    "\n",
    "34*3\n",
    "\n",
    "100/7\n",
    "100//7\n",
    "\n"
   ]
  },
  {
   "cell_type": "code",
   "execution_count": 7,
   "id": "db259819",
   "metadata": {},
   "outputs": [
    {
     "data": {
      "text/plain": [
       "14.285714285714286"
      ]
     },
     "execution_count": 7,
     "metadata": {},
     "output_type": "execute_result"
    }
   ],
   "source": [
    "100/7"
   ]
  },
  {
   "cell_type": "code",
   "execution_count": 9,
   "id": "84436154",
   "metadata": {},
   "outputs": [
    {
     "data": {
      "text/plain": [
       "14"
      ]
     },
     "execution_count": 9,
     "metadata": {},
     "output_type": "execute_result"
    }
   ],
   "source": [
    "100//7"
   ]
  },
  {
   "cell_type": "code",
   "execution_count": 10,
   "id": "58ea620a",
   "metadata": {},
   "outputs": [
    {
     "data": {
      "text/plain": [
       "2"
      ]
     },
     "execution_count": 10,
     "metadata": {},
     "output_type": "execute_result"
    }
   ],
   "source": [
    "#Modulus\n",
    "\n",
    "100%7"
   ]
  },
  {
   "cell_type": "code",
   "execution_count": 11,
   "id": "63dd3a93",
   "metadata": {},
   "outputs": [
    {
     "data": {
      "text/plain": [
       "25"
      ]
     },
     "execution_count": 11,
     "metadata": {},
     "output_type": "execute_result"
    }
   ],
   "source": [
    "#expotential\n",
    "\n",
    "5**2"
   ]
  },
  {
   "cell_type": "markdown",
   "id": "5ae850b7",
   "metadata": {},
   "source": [
    "Solving multi-step problems using variabls\n",
    "\n",
    "Let's- a grocery store sells a bag of ice for $1.25 and makes  a 20 percent  profit.If it sells 500 Bags of ice, how much total profit does it make?"
   ]
  },
  {
   "cell_type": "code",
   "execution_count": 14,
   "id": "b9eb0f0a",
   "metadata": {},
   "outputs": [
    {
     "name": "stdout",
     "output_type": "stream",
     "text": [
      "Total Profit he can make $ 125.0\n"
     ]
    }
   ],
   "source": [
    "cost_of_ice_bag=1.25\n",
    "profit_margin=.2\n",
    "number_of_bag=500\n",
    "profit_per_bag=cost_of_ice_bag*profit_margin\n",
    "total_profit=profit_per_bag*number_of_bag\n",
    "print(\"Total Profit he can make $\",total_profit)"
   ]
  },
  {
   "cell_type": "markdown",
   "id": "f8a26d25",
   "metadata": {},
   "source": [
    "For single line comment we use '#'\n",
    "and\n",
    "\n",
    "Multiline \"\"\"  \"\"\"\n",
    "\"\" \"This is a multi-line comment.\n",
    "Write as little or as much as you'd like.\n",
    "\n",
    "Comments are really helpful for people reading\n",
    "your code, but try to keep them short & to-the-point.\n",
    "\n",
    "Also, if you use good variable names, then your code is\n",
    "often self explanatory, and you may not even need comments!\n",
    "\"\"\""
   ]
  },
  {
   "cell_type": "markdown",
   "id": "61ec5705",
   "metadata": {},
   "source": [
    "Header1 Evaluation conditions using python\n"
   ]
  },
  {
   "cell_type": "code",
   "execution_count": 19,
   "id": "5227963a",
   "metadata": {},
   "outputs": [
    {
     "data": {
      "text/plain": [
       "True"
      ]
     },
     "execution_count": 19,
     "metadata": {},
     "output_type": "execute_result"
    }
   ],
   "source": [
    "my_fav_number=1\n",
    "my_least_fav_number=5\n",
    "neutral_number=4\n",
    "my_fav_number==1\n"
   ]
  },
  {
   "cell_type": "code",
   "execution_count": 20,
   "id": "0417ba16",
   "metadata": {},
   "outputs": [
    {
     "data": {
      "text/plain": [
       "False"
      ]
     },
     "execution_count": 20,
     "metadata": {},
     "output_type": "execute_result"
    }
   ],
   "source": [
    "my_fav_number>neutral_number"
   ]
  },
  {
   "cell_type": "code",
   "execution_count": 22,
   "id": "b8d2bc71",
   "metadata": {},
   "outputs": [
    {
     "data": {
      "text/plain": [
       "True"
      ]
     },
     "execution_count": 22,
     "metadata": {},
     "output_type": "execute_result"
    }
   ],
   "source": [
    "#Multicondition\n",
    "(2>3 and 4<=5) or not (my_fav_number<0 and True)"
   ]
  },
  {
   "cell_type": "code",
   "execution_count": null,
   "id": "20b55002",
   "metadata": {},
   "outputs": [],
   "source": []
  }
 ],
 "metadata": {
  "kernelspec": {
   "display_name": "Python 3 (ipykernel)",
   "language": "python",
   "name": "python3"
  },
  "language_info": {
   "codemirror_mode": {
    "name": "ipython",
    "version": 3
   },
   "file_extension": ".py",
   "mimetype": "text/x-python",
   "name": "python",
   "nbconvert_exporter": "python",
   "pygments_lexer": "ipython3",
   "version": "3.11.5"
  }
 },
 "nbformat": 4,
 "nbformat_minor": 5
}
