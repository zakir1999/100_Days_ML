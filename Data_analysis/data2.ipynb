{
 "cells": [
  {
   "cell_type": "markdown",
   "id": "7ea1f48a",
   "metadata": {},
   "source": [
    "# Branching with if,else and elif\n"
   ]
  },
  {
   "cell_type": "code",
   "execution_count": 2,
   "id": "74a7ef62",
   "metadata": {},
   "outputs": [],
   "source": [
    "num=34"
   ]
  },
  {
   "cell_type": "code",
   "execution_count": 4,
   "id": "c71fb10a",
   "metadata": {},
   "outputs": [
    {
     "name": "stdout",
     "output_type": "stream",
     "text": [
      "We're inside an if block\n",
      "The given number 34 is even.\n"
     ]
    }
   ],
   "source": [
    "if num%2==0:\n",
    "    print(\"We're inside an if block\")\n",
    "    print('The given number {} is even.'.format(num)) # {} use for pritn number here .format are for convert to string"
   ]
  },
  {
   "cell_type": "code",
   "execution_count": 5,
   "id": "7a9702d1",
   "metadata": {},
   "outputs": [],
   "source": [
    "anon=33\n",
    "if anon%2==0:\n",
    "    pritn(\"the given number {} is even.\".format(anon))"
   ]
  },
  {
   "cell_type": "code",
   "execution_count": 6,
   "id": "b32689de",
   "metadata": {},
   "outputs": [
    {
     "name": "stdout",
     "output_type": "stream",
     "text": [
      "The given nubmer 34 is even\n"
     ]
    }
   ],
   "source": [
    "if num%2==0:\n",
    "    print('The given nubmer {} is even'.format(num))\n",
    "else:\n",
    "    print('The given number {} is odd'.format(num))"
   ]
  },
  {
   "cell_type": "markdown",
   "id": "82208164",
   "metadata": {},
   "source": [
    "Here's another example, which uses the in operator to check membership within  tuple\n"
   ]
  },
  {
   "cell_type": "code",
   "execution_count": 7,
   "id": "e6ceafd2",
   "metadata": {},
   "outputs": [
    {
     "name": "stdout",
     "output_type": "stream",
     "text": [
      "Babu is not namelist\n"
     ]
    }
   ],
   "source": [
    "namelist=('Jakir','Tonima','Chondi')\n",
    "acan='Babu'\n",
    "\n",
    "if acan in namelist:\n",
    "    print('{} is in namelist'.format(acan))\n",
    "else:\n",
    "    print(\"{} is not namelist\".format(acan))"
   ]
  },
  {
   "cell_type": "markdown",
   "id": "f03cf0cf",
   "metadata": {},
   "source": [
    "# Instead of else if python are use elif\n"
   ]
  },
  {
   "cell_type": "code",
   "execution_count": 16,
   "id": "0b843a53",
   "metadata": {},
   "outputs": [
    {
     "name": "stdout",
     "output_type": "stream",
     "text": [
      "15 is divisible by 3\n"
     ]
    }
   ],
   "source": [
    "nu=15\n",
    "\n",
    "if nu%2==0:\n",
    "    print('{} is divisible by 2'.format(nu))\n",
    "elif nu%3==0:\n",
    "    print(\"{} is divisible by 3\".format(nu))\n",
    "elif nu%5==0:\n",
    "    print('{} is divisible by 5'.format(nu))\n",
    "elif nu % 7 == 0:\n",
    "    print('{} is divisible by 7'.format(nu))"
   ]
  },
  {
   "cell_type": "code",
   "execution_count": 12,
   "id": "bee32f49",
   "metadata": {},
   "outputs": [
    {
     "name": "stdout",
     "output_type": "stream",
     "text": [
      "Today is the day of Odin, the supreme diety.\n"
     ]
    }
   ],
   "source": [
    "today='Wednesday'\n",
    "\n",
    "if today == 'Sunday':\n",
    "    print(\"Today is the day of the sun.\")\n",
    "elif today == 'Monday':\n",
    "    print(\"Today is the day of the moon.\")\n",
    "elif today == 'Tuesday':\n",
    "    print(\"Today is the day of Tyr, the god of war.\")\n",
    "elif today == 'Wednesday':\n",
    "    print(\"Today is the day of Odin, the supreme diety.\")\n",
    "elif today == 'Thursday':\n",
    "    print(\"Today is the day of Thor, the god of thunder.\")\n",
    "elif today == 'Friday':\n",
    "    print(\"Today is the day of Frigga, the goddess of beauty.\")\n",
    "elif today == 'Saturday':\n",
    "    print(\"Today is the day of Saturn, the god of fun and feasting.\")"
   ]
  },
  {
   "cell_type": "code",
   "execution_count": 18,
   "id": "1f16b980",
   "metadata": {},
   "outputs": [
    {
     "name": "stdout",
     "output_type": "stream",
     "text": [
      "The number 15 is divisible by 3 and 5\n"
     ]
    }
   ],
   "source": [
    "if nu%3==0 and nu%5==0:\n",
    "    print(\"The number {} is divisible by 3 and 5\".format(nu))\n",
    "elif not nu%5==0:\n",
    "    print('The number {} is not divisible by 5'.format(nu))"
   ]
  },
  {
   "cell_type": "markdown",
   "id": "d0d0a5bf",
   "metadata": {},
   "source": [
    "# Non-Boolean Conditions\n",
    "Note that conditions do not necessarily have to be booleans. In fact, a condition can be any value. The value is converted into a boolean automatically using the bool operator. This means that falsy values like 0, '', {}, [], etc. evaluate to False and all other values evaluate to True."
   ]
  },
  {
   "cell_type": "code",
   "execution_count": 19,
   "id": "e26eaf3a",
   "metadata": {},
   "outputs": [
    {
     "name": "stdout",
     "output_type": "stream",
     "text": [
      "The condition evaluted to false\n"
     ]
    }
   ],
   "source": [
    "if '':\n",
    "    print('The condition evaluted to True')\n",
    "else:\n",
    "    print('The condition evaluted to false')"
   ]
  },
  {
   "cell_type": "code",
   "execution_count": 20,
   "id": "c0422a2f",
   "metadata": {},
   "outputs": [
    {
     "name": "stdout",
     "output_type": "stream",
     "text": [
      "The condition evaluted to True\n"
     ]
    }
   ],
   "source": [
    "if 'Hello':\n",
    "    print('The condition evaluted to True')\n",
    "else:\n",
    "    print('The condition evaluted to False')"
   ]
  },
  {
   "cell_type": "code",
   "execution_count": 21,
   "id": "606cd5ef",
   "metadata": {},
   "outputs": [
    {
     "name": "stdout",
     "output_type": "stream",
     "text": [
      "The condition evaluted to True\n"
     ]
    }
   ],
   "source": [
    "if { 'a': 34 }:\n",
    "    print('The condition evaluted to True')\n",
    "else:\n",
    "    print('The condition evaluted to False')"
   ]
  },
  {
   "cell_type": "code",
   "execution_count": 22,
   "id": "6f77fca2",
   "metadata": {},
   "outputs": [
    {
     "name": "stdout",
     "output_type": "stream",
     "text": [
      "The condition evaluted to False\n"
     ]
    }
   ],
   "source": [
    "if None:\n",
    "    print('The condition evaluted to True')\n",
    "else:\n",
    "    print('The condition evaluted to False')"
   ]
  },
  {
   "cell_type": "markdown",
   "id": "57de5f1a",
   "metadata": {},
   "source": [
    "# Nested conditional statements\n",
    "The code inside an if block can also include an if statement inside it. This pattern is called nesting and is used to check for another condition after a particular condition holds true"
   ]
  },
  {
   "cell_type": "code",
   "execution_count": 23,
   "id": "9611778a",
   "metadata": {},
   "outputs": [
    {
     "name": "stdout",
     "output_type": "stream",
     "text": [
      "34 is even\n",
      "34 is not divisible by 3\n"
     ]
    }
   ],
   "source": [
    "a_number=34\n",
    "\n",
    "if a_number % 2 == 0:\n",
    "    print(\"{} is even\".format(a_number))\n",
    "    if a_number % 3 == 0:\n",
    "        print(\"{} is also divisible by 3\".format(a_number))\n",
    "    else:\n",
    "        print(\"{} is not divisible by 3\".format(a_number))\n",
    "else:\n",
    "    print(\"{} is odd\".format(a_number))\n",
    "    if a_number % 5 == 0:\n",
    "        print(\"{} is also divisible by 5\".format(a_number))\n",
    "    else:\n",
    "        print(\"{} is not divisible by 5\".format(a_number))"
   ]
  },
  {
   "cell_type": "markdown",
   "id": "f5a61f2a",
   "metadata": {},
   "source": [
    "# Shorthand if conditional expression"
   ]
  },
  {
   "cell_type": "code",
   "execution_count": 24,
   "id": "342ade85",
   "metadata": {
    "scrolled": true
   },
   "outputs": [
    {
     "name": "stdout",
     "output_type": "stream",
     "text": [
      "The number 34 is even.\n"
     ]
    }
   ],
   "source": [
    "parity = 'even' if a_number % 2 == 0 else 'odd'\n",
    "print('The number {} is {}.'.format(a_number,parity))"
   ]
  },
  {
   "cell_type": "markdown",
   "id": "104eecd5",
   "metadata": {},
   "source": [
    "# Pass statement\n"
   ]
  },
  {
   "cell_type": "code",
   "execution_count": 25,
   "id": "f2182d70",
   "metadata": {},
   "outputs": [
    {
     "name": "stdout",
     "output_type": "stream",
     "text": [
      "The number is multiple of 3\n"
     ]
    }
   ],
   "source": [
    "if nu%2==0:\n",
    "    pass\n",
    "elif nu%3==0:\n",
    "    print(\"The number is multiple of 3\")"
   ]
  },
  {
   "cell_type": "markdown",
   "id": "4196d6dd",
   "metadata": {},
   "source": [
    "# Iteration with while loops"
   ]
  },
  {
   "cell_type": "code",
   "execution_count": 26,
   "id": "e0127e4d",
   "metadata": {},
   "outputs": [
    {
     "name": "stdout",
     "output_type": "stream",
     "text": [
      "The factorial of 10 is 3628800\n"
     ]
    }
   ],
   "source": [
    "#find factorial using while loop\n",
    "res=1\n",
    "i=1;\n",
    "while i<=10:\n",
    "    res*=i;\n",
    "    i+=1;\n",
    "print(\"The factorial of 10 is {}\".format(res))"
   ]
  },
  {
   "cell_type": "code",
   "execution_count": 27,
   "id": "e7697bcb",
   "metadata": {},
   "outputs": [
    {
     "name": "stdout",
     "output_type": "stream",
     "text": [
      "*\n",
      "**\n",
      "***\n",
      "****\n",
      "*****\n",
      "******\n",
      "*******\n",
      "********\n",
      "*********\n",
      "**********\n",
      "*********\n",
      "********\n",
      "*******\n",
      "******\n",
      "*****\n",
      "****\n",
      "***\n",
      "**\n",
      "*\n"
     ]
    }
   ],
   "source": [
    "line='*'\n",
    "max_len=10\n",
    "while len(line)<max_len:\n",
    "    print(line)\n",
    "    line+=\"*\"\n",
    "    \n",
    "while len(line)>0:\n",
    "    print(line)\n",
    "    line=line[:-1]"
   ]
  },
  {
   "cell_type": "markdown",
   "id": "bb9e64d9",
   "metadata": {},
   "source": [
    "# # Break and continue statement\n"
   ]
  },
  {
   "cell_type": "code",
   "execution_count": 30,
   "id": "af461663",
   "metadata": {},
   "outputs": [
    {
     "name": "stdout",
     "output_type": "stream",
     "text": [
      "Magic nubmer 42 reached! stopping execution\n",
      "i: 42\n",
      "Result : 1405006117752879898543142606244511569936384000000000\n"
     ]
    }
   ],
   "source": [
    "i=1\n",
    "res=1\n",
    "while i<=100:\n",
    "     res*=i\n",
    "     if i==42:\n",
    "        print(\"Magic nubmer 42 reached! stopping execution\")\n",
    "        break\n",
    "     i+=1\n",
    "    \n",
    "print('i:',i)\n",
    "print('Result :',res)"
   ]
  },
  {
   "cell_type": "code",
   "execution_count": 31,
   "id": "4d67752f",
   "metadata": {},
   "outputs": [
    {
     "name": "stdout",
     "output_type": "stream",
     "text": [
      "Skipping 2\n",
      "Multiplying with 3\n",
      "Skipping 4\n",
      "Multiplying with 5\n",
      "Skipping 6\n",
      "Multiplying with 7\n",
      "Skipping 8\n",
      "Multiplying with 9\n",
      "Skipping 10\n",
      "Multiplying with 11\n",
      "Skipping 12\n",
      "Multiplying with 13\n",
      "Skipping 14\n",
      "Multiplying with 15\n",
      "Skipping 16\n",
      "Multiplying with 17\n",
      "Skipping 18\n",
      "Multiplying with 19\n",
      "Skipping 20\n",
      "i: 20\n",
      "result: 654729075\n"
     ]
    }
   ],
   "source": [
    "i = 1\n",
    "result = 1\n",
    "\n",
    "while i < 20:\n",
    "    i += 1\n",
    "    if i % 2 == 0:\n",
    "        print('Skipping {}'.format(i))\n",
    "        continue\n",
    "    print('Multiplying with {}'.format(i))\n",
    "    result = result * i\n",
    "    \n",
    "print('i:', i)\n",
    "print('result:', result)"
   ]
  },
  {
   "cell_type": "markdown",
   "id": "6588c06e",
   "metadata": {},
   "source": [
    "# Iteration with for loops\n"
   ]
  },
  {
   "cell_type": "code",
   "execution_count": 32,
   "id": "b0b85c4d",
   "metadata": {},
   "outputs": [
    {
     "name": "stdout",
     "output_type": "stream",
     "text": [
      "Monday\n",
      "Tuesday\n",
      "Wednesday\n",
      "Thursday\n",
      "Friday\n"
     ]
    }
   ],
   "source": [
    "days = ['Monday', 'Tuesday', 'Wednesday', 'Thursday', 'Friday']\n",
    "\n",
    "for day in days:\n",
    "    print(day)"
   ]
  },
  {
   "cell_type": "code",
   "execution_count": 33,
   "id": "8ef5edc4",
   "metadata": {},
   "outputs": [
    {
     "name": "stdout",
     "output_type": "stream",
     "text": [
      "M\n",
      "o\n",
      "n\n",
      "d\n",
      "a\n",
      "y\n"
     ]
    }
   ],
   "source": [
    "for char in 'Monday':\n",
    "    print(char)"
   ]
  },
  {
   "cell_type": "code",
   "execution_count": 34,
   "id": "e5843c90",
   "metadata": {},
   "outputs": [
    {
     "name": "stdout",
     "output_type": "stream",
     "text": [
      "Key: name , Value: John Doe\n",
      "Key: sex , Value: Male\n",
      "Key: age , Value: 32\n",
      "Key: married , Value: True\n"
     ]
    }
   ],
   "source": [
    "person = {\n",
    "    'name': 'John Doe',\n",
    "    'sex': 'Male',\n",
    "    'age': 32,\n",
    "    'married': True\n",
    "}\n",
    "\n",
    "for key in person:\n",
    "    print(\"Key:\", key, \",\", \"Value:\", person[key])"
   ]
  },
  {
   "cell_type": "code",
   "execution_count": 35,
   "id": "d009f266",
   "metadata": {},
   "outputs": [
    {
     "name": "stdout",
     "output_type": "stream",
     "text": [
      "John Doe\n",
      "Male\n",
      "32\n",
      "True\n"
     ]
    }
   ],
   "source": [
    "for value in person.values():\n",
    "    print(value)"
   ]
  },
  {
   "cell_type": "code",
   "execution_count": 36,
   "id": "31487304",
   "metadata": {},
   "outputs": [
    {
     "name": "stdout",
     "output_type": "stream",
     "text": [
      "('name', 'John Doe')\n",
      "('sex', 'Male')\n",
      "('age', 32)\n",
      "('married', True)\n"
     ]
    },
    {
     "data": {
      "text/plain": [
       "('married', True)"
      ]
     },
     "execution_count": 36,
     "metadata": {},
     "output_type": "execute_result"
    }
   ],
   "source": [
    "for key_value_pair in person.items():\n",
    "    print(key_value_pair)\n",
    "('name', 'John Doe')\n",
    "('sex', 'Male')\n",
    "('age', 32)\n",
    "('married', True)"
   ]
  },
  {
   "cell_type": "code",
   "execution_count": 38,
   "id": "76d1b9ad",
   "metadata": {},
   "outputs": [
    {
     "name": "stdout",
     "output_type": "stream",
     "text": [
      "Key: name , Value: John Doe\n",
      "Key: sex , Value: Male\n",
      "Key: age , Value: 32\n",
      "Key: married , Value: True\n"
     ]
    }
   ],
   "source": [
    "for key, value in person.items():\n",
    "    print(\"Key:\", key, \",\", \"Value:\", value)\n"
   ]
  },
  {
   "cell_type": "markdown",
   "id": "5ba5f175",
   "metadata": {},
   "source": [
    "# Iterating using range and enumerate\n",
    "\n",
    "The range function is used to create a sequence of numbers that can be iterated over using a for loop. It can be used in 3 ways:\n",
    "\n",
    "range(n) - Creates a sequence of numbers from 0 to n-1\n",
    "range(a, b) - Creates a sequence of numbers from a to b-1\n",
    "range(a, b, step) - Creates a sequence of numbers from a to b-1 with increments of step\n",
    "Let's try it out."
   ]
  },
  {
   "cell_type": "code",
   "execution_count": 39,
   "id": "5dd0c430",
   "metadata": {},
   "outputs": [
    {
     "name": "stdout",
     "output_type": "stream",
     "text": [
      "0\n",
      "1\n",
      "2\n",
      "3\n",
      "4\n",
      "5\n",
      "6\n"
     ]
    }
   ],
   "source": [
    "for i in range(7):\n",
    "    print(i)"
   ]
  },
  {
   "cell_type": "code",
   "execution_count": 40,
   "id": "0f40850d",
   "metadata": {},
   "outputs": [
    {
     "name": "stdout",
     "output_type": "stream",
     "text": [
      "3\n",
      "4\n",
      "5\n",
      "6\n",
      "7\n",
      "8\n",
      "9\n"
     ]
    }
   ],
   "source": [
    "for i in range(3,10):\n",
    "    print(i)"
   ]
  },
  {
   "cell_type": "code",
   "execution_count": 41,
   "id": "8bcee138",
   "metadata": {},
   "outputs": [
    {
     "name": "stdout",
     "output_type": "stream",
     "text": [
      "3\n",
      "5\n",
      "7\n",
      "9\n"
     ]
    }
   ],
   "source": [
    "for i in range(3,10,2):\n",
    "    print(i)"
   ]
  },
  {
   "cell_type": "code",
   "execution_count": 42,
   "id": "57949d34",
   "metadata": {},
   "outputs": [
    {
     "name": "stdout",
     "output_type": "stream",
     "text": [
      "The value at position 0 is Monday.\n",
      "The value at position 1 is Tuesday.\n",
      "The value at position 2 is Wednesday.\n",
      "The value at position 3 is Thursday.\n",
      "The value at position 4 is Friday.\n"
     ]
    }
   ],
   "source": [
    "a_list = ['Monday', 'Tuesday', 'Wednesday', 'Thursday', 'Friday']\n",
    "\n",
    "for i in range(len(a_list)):\n",
    "    print('The value at position {} is {}.'.format(i, a_list[i]))"
   ]
  },
  {
   "cell_type": "code",
   "execution_count": 43,
   "id": "3e93ac3d",
   "metadata": {},
   "outputs": [
    {
     "name": "stdout",
     "output_type": "stream",
     "text": [
      "The value at position 0 is Monday.\n",
      "The value at position 1 is Tuesday.\n",
      "The value at position 2 is Wednesday.\n",
      "The value at position 3 is Thursday.\n",
      "The value at position 4 is Friday.\n"
     ]
    }
   ],
   "source": [
    "for i, val in enumerate(a_list):\n",
    "    print('The value at position {} is {}.'.format(i, val))"
   ]
  },
  {
   "cell_type": "code",
   "execution_count": 46,
   "id": "a2210651",
   "metadata": {},
   "outputs": [
    {
     "name": "stdout",
     "output_type": "stream",
     "text": [
      "Today is Monday\n",
      "Today is Tuesday\n",
      "Today is Wednesday\n",
      "I don't work beyond Wednesday!\n"
     ]
    }
   ],
   "source": [
    "weekdays = ['Monday', 'Tuesday', 'Wednesday', 'Thursday', 'Friday']\n",
    "for day in weekdays:\n",
    "    print('Today is {}'.format(day))\n",
    "    if (day == 'Wednesday'):\n",
    "        print(\"I don't work beyond Wednesday!\")\n",
    "        break"
   ]
  },
  {
   "cell_type": "code",
   "execution_count": 47,
   "id": "6e68cdd1",
   "metadata": {},
   "outputs": [
    {
     "name": "stdout",
     "output_type": "stream",
     "text": [
      "Today is Monday\n",
      "Today is Tuesday\n",
      "I don't work on Wednesday!\n",
      "Today is Thursday\n",
      "Today is Friday\n"
     ]
    }
   ],
   "source": [
    "for day in weekdays:\n",
    "    if (day == 'Wednesday'):\n",
    "        print(\"I don't work on Wednesday!\")\n",
    "        continue\n",
    "    print('Today is {}'.format(day))"
   ]
  },
  {
   "cell_type": "code",
   "execution_count": 48,
   "id": "b0a76719",
   "metadata": {},
   "outputs": [],
   "source": [
    "#For loops cannot be empty, so you can use a pass statement if you don't want to execute any statement inside the loop\n",
    "for day in weekdays:\n",
    "    pass"
   ]
  },
  {
   "cell_type": "markdown",
   "id": "6f35b5fb",
   "metadata": {},
   "source": [
    "# Nested for and while loops"
   ]
  },
  {
   "cell_type": "code",
   "execution_count": 49,
   "id": "a04d5c6e",
   "metadata": {},
   "outputs": [
    {
     "name": "stdout",
     "output_type": "stream",
     "text": [
      "name : John\n",
      "sex : Male\n",
      " \n",
      "name : Jane\n",
      "sex : Female\n",
      " \n"
     ]
    }
   ],
   "source": [
    "persons = [{'name': 'John', 'sex': 'Male'}, {'name': 'Jane', 'sex': 'Female'}]\n",
    "\n",
    "for person in persons:\n",
    "    for key in person:\n",
    "        print(key, \":\", person[key])\n",
    "    print(\" \")"
   ]
  },
  {
   "cell_type": "code",
   "execution_count": 50,
   "id": "dc6c78aa",
   "metadata": {},
   "outputs": [
    {
     "name": "stdout",
     "output_type": "stream",
     "text": [
      "Monday apple\n",
      "Monday banana\n",
      "Monday guava\n",
      "Tuesday apple\n",
      "Tuesday banana\n",
      "Tuesday guava\n",
      "Wednesday apple\n",
      "Wednesday banana\n",
      "Wednesday guava\n"
     ]
    }
   ],
   "source": [
    "days = ['Monday', 'Tuesday', 'Wednesday']\n",
    "fruits = ['apple', 'banana', 'guava']\n",
    "\n",
    "for day in days:\n",
    "    for fruit in fruits:\n",
    "        print(day, fruit)"
   ]
  },
  {
   "cell_type": "code",
   "execution_count": null,
   "id": "ee2b1766",
   "metadata": {},
   "outputs": [],
   "source": []
  }
 ],
 "metadata": {
  "kernelspec": {
   "display_name": "Python 3 (ipykernel)",
   "language": "python",
   "name": "python3"
  },
  "language_info": {
   "codemirror_mode": {
    "name": "ipython",
    "version": 3
   },
   "file_extension": ".py",
   "mimetype": "text/x-python",
   "name": "python",
   "nbconvert_exporter": "python",
   "pygments_lexer": "ipython3",
   "version": "3.11.5"
  }
 },
 "nbformat": 4,
 "nbformat_minor": 5
}
