{
  "nbformat": 4,
  "nbformat_minor": 0,
  "metadata": {
    "colab": {
      "private_outputs": true,
      "provenance": [],
      "authorship_tag": "ABX9TyP6LdKSfKn0+WufmtlKWmYx",
      "include_colab_link": true
    },
    "kernelspec": {
      "name": "python3",
      "display_name": "Python 3"
    },
    "language_info": {
      "name": "python"
    }
  },
  "cells": [
    {
      "cell_type": "markdown",
      "metadata": {
        "id": "view-in-github",
        "colab_type": "text"
      },
      "source": [
        "<a href=\"https://colab.research.google.com/github/zakir1999/100_Days_ML/blob/main/18.ipynb\" target=\"_parent\"><img src=\"https://colab.research.google.com/assets/colab-badge.svg\" alt=\"Open In Colab\"/></a>"
      ]
    },
    {
      "cell_type": "code",
      "execution_count": null,
      "metadata": {
        "id": "hoHG3VZRyW1g"
      },
      "outputs": [],
      "source": []
    },
    {
      "cell_type": "markdown",
      "source": [
        "# Web Scraping"
      ],
      "metadata": {
        "id": "u2enD7CNyrMt"
      }
    },
    {
      "cell_type": "code",
      "source": [
        "import pandas as pd\n",
        "import requests\n",
        "from bs4 import BeautifulSoup\n",
        "import numpy as np\n"
      ],
      "metadata": {
        "id": "fQpgRNQgyv7o"
      },
      "execution_count": null,
      "outputs": []
    },
    {
      "cell_type": "code",
      "source": [
        "headers={'User-Agent':'Mozilla/5.0 (Windows NT 6.3; Win 64 ; x64) Apple WeKit /537.36(KHTML , like Gecko) Chrome/80.0.3987.162 Safari/537.36'}\n",
        "\n",
        "webpage=requests.get('https://www.ambitionbox.com/list-of-companies?page=1',headers=headers).text"
      ],
      "metadata": {
        "id": "6A-6wijrzFCk"
      },
      "execution_count": null,
      "outputs": []
    },
    {
      "cell_type": "code",
      "source": [
        "soup=BeautifulSoup(webpage,'lxml')"
      ],
      "metadata": {
        "id": "XAtbueCXzbW3"
      },
      "execution_count": null,
      "outputs": []
    },
    {
      "cell_type": "code",
      "source": [
        "print(soup.prettify())\n"
      ],
      "metadata": {
        "id": "4p0jX-No0WTC"
      },
      "execution_count": null,
      "outputs": []
    },
    {
      "cell_type": "code",
      "source": [],
      "metadata": {
        "id": "8yr46pAI8U8V"
      },
      "execution_count": null,
      "outputs": []
    },
    {
      "cell_type": "code",
      "source": [
        "soup.find_all('h1')[0].text"
      ],
      "metadata": {
        "id": "54sqdufN0oYl"
      },
      "execution_count": null,
      "outputs": []
    },
    {
      "cell_type": "code",
      "source": [
        "for i in soup.find_all('h2'):\n",
        "  print(i.text.strip())"
      ],
      "metadata": {
        "id": "xGp7azvK1R1F"
      },
      "execution_count": null,
      "outputs": []
    },
    {
      "cell_type": "code",
      "source": [
        "len(soup.find_all('span',class_=\"companyCardWrapper__companyRatingValue\"))"
      ],
      "metadata": {
        "id": "SRufHoh_1dCt"
      },
      "execution_count": null,
      "outputs": []
    },
    {
      "cell_type": "code",
      "source": [
        "len(soup.find_all('span',class_=\"companyCardWrapper__ActionCount\"))"
      ],
      "metadata": {
        "id": "wWpMC5ro7K5l"
      },
      "execution_count": null,
      "outputs": []
    },
    {
      "cell_type": "code",
      "source": [
        "for i in soup.find_all('span',class_=\"companyCardWrapper__companyRatingValue\"):\n",
        "  print(i.text.strip())"
      ],
      "metadata": {
        "id": "UHDAqhuP4PaE"
      },
      "execution_count": null,
      "outputs": []
    },
    {
      "cell_type": "code",
      "source": [
        "for i in soup.find_all('span',class_=\"companyCardWrapper__ActionCount\"):\n",
        "  print(i.text.strip())"
      ],
      "metadata": {
        "id": "51NXohvi7feu"
      },
      "execution_count": null,
      "outputs": []
    },
    {
      "cell_type": "code",
      "source": [
        "company=soup.find_all('div',class_=\"companyCardWrapper\")"
      ],
      "metadata": {
        "id": "FaOUpvJ88XmD"
      },
      "execution_count": null,
      "outputs": []
    },
    {
      "cell_type": "code",
      "source": [
        "len(company)"
      ],
      "metadata": {
        "id": "d6pd_zmh9TBP"
      },
      "execution_count": null,
      "outputs": []
    },
    {
      "cell_type": "code",
      "source": [
        "name=[]\n",
        "rating=[]\n",
        "reviews=[]\n",
        "ctype=[]\n",
        "\n",
        "for i in company:\n",
        "  name.append(i.find('h2').text.strip())\n",
        "  rating.append(i.find_all('span',class_='companyCardWrapper__companyRatingValue')[0].text.strip())\n",
        "  reviews.append(i.find('span',class_=\"companyCardWrapper__ActionCount\").text.strip())\n",
        "  ctype.append(i.find_all('span',class_='companyCardWrapper__interLinking')[0].text.strip())"
      ],
      "metadata": {
        "id": "ICzYoHqu9W5N"
      },
      "execution_count": null,
      "outputs": []
    },
    {
      "cell_type": "code",
      "source": [
        "len(ctype)\n"
      ],
      "metadata": {
        "id": "9u8zihroA3S8"
      },
      "execution_count": null,
      "outputs": []
    },
    {
      "cell_type": "code",
      "source": [
        "ctype[0].split('|')"
      ],
      "metadata": {
        "id": "hBULtUR09vMX"
      },
      "execution_count": null,
      "outputs": []
    },
    {
      "cell_type": "code",
      "source": [
        "otype=[]\n",
        "hq=[]\n",
        "old=[]\n",
        "employee=[]\n",
        "i=0\n",
        "for i in range(0,20):\n",
        "  de=ctype[i].split('|')\n",
        "  otype.append(de[0])\n",
        "  hq.append(de[1])\n",
        "  old.append(de[2])\n",
        "  employee.append(de[3])\n",
        "\n"
      ],
      "metadata": {
        "id": "2t_HrUaEMNWa"
      },
      "execution_count": null,
      "outputs": []
    },
    {
      "cell_type": "code",
      "source": [
        "company[3].find_all('span',class_='companyCardWrapper__interLinking')[0].text.strip()\n",
        "\n"
      ],
      "metadata": {
        "id": "IcWqZm9IA5F5"
      },
      "execution_count": null,
      "outputs": []
    },
    {
      "cell_type": "code",
      "source": [
        "d={'name':name,'rating':rating,'reviews':reviews,'Type':otype,'Head_quater':hq,'OLD':old,'Employees':employee}"
      ],
      "metadata": {
        "id": "AmbiV1oA-AkQ"
      },
      "execution_count": null,
      "outputs": []
    },
    {
      "cell_type": "code",
      "source": [
        "dee=pd.DataFrame(d)\n",
        "dee"
      ],
      "metadata": {
        "id": "cy9ruDBbITcv"
      },
      "execution_count": null,
      "outputs": []
    },
    {
      "cell_type": "code",
      "source": [],
      "metadata": {
        "id": "I6s4ATT9PVof"
      },
      "execution_count": null,
      "outputs": []
    }
  ]
}