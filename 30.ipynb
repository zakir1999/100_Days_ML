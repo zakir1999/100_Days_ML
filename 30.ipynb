{
  "nbformat": 4,
  "nbformat_minor": 0,
  "metadata": {
    "colab": {
      "private_outputs": true,
      "provenance": [],
      "authorship_tag": "ABX9TyOT+xD927qUEYBl5K5/L+tV",
      "include_colab_link": true
    },
    "kernelspec": {
      "name": "python3",
      "display_name": "Python 3"
    },
    "language_info": {
      "name": "python"
    }
  },
  "cells": [
    {
      "cell_type": "markdown",
      "metadata": {
        "id": "view-in-github",
        "colab_type": "text"
      },
      "source": [
        "<a href=\"https://colab.research.google.com/github/zakir1999/100_Days_ML/blob/main/30.ipynb\" target=\"_parent\"><img src=\"https://colab.research.google.com/assets/colab-badge.svg\" alt=\"Open In Colab\"/></a>"
      ]
    },
    {
      "cell_type": "markdown",
      "source": [
        "# Function Transformer\n",
        "\n",
        "\n",
        "\n",
        "*   Log Transform\n",
        "*   Reciprocal Transform\n",
        "*   Square Root Transfrom\n",
        "\n",
        "\n",
        "\n"
      ],
      "metadata": {
        "id": "tsy_6fNpmsMH"
      }
    },
    {
      "cell_type": "code",
      "execution_count": null,
      "metadata": {
        "id": "sJbmtri7miWx"
      },
      "outputs": [],
      "source": [
        "import pandas as pd\n",
        "import numpy as np\n",
        "\n",
        "import scipy.stats as stats\n",
        "\n",
        "import matplotlib.pyplot as plt\n",
        "import seaborn as sns\n",
        "\n",
        "from sklearn.model_selection import train_test_split\n",
        "from sklearn.metrics import accuracy_score\n",
        "from sklearn.model_selection import cross_val_score\n",
        "\n",
        "from sklearn.linear_model import LogisticRegression\n",
        "from sklearn.tree import DecisionTreeClassifier\n",
        "\n",
        "from sklearn.preprocessing import FunctionTransformer\n",
        "from sklearn.compose import ColumnTransformer\n"
      ]
    },
    {
      "cell_type": "code",
      "source": [
        "df=pd.read_csv('train.csv',usecols=['Age','Fare','Survived'])"
      ],
      "metadata": {
        "id": "2wJdXjonqi_j"
      },
      "execution_count": null,
      "outputs": []
    },
    {
      "cell_type": "code",
      "source": [
        "df.head()"
      ],
      "metadata": {
        "id": "JWoklwsu0z2P"
      },
      "execution_count": null,
      "outputs": []
    },
    {
      "cell_type": "code",
      "source": [
        "df['Age'].fillna(df['Age'].mean(),inplace=True)"
      ],
      "metadata": {
        "id": "k1r7DE6101U0"
      },
      "execution_count": null,
      "outputs": []
    },
    {
      "cell_type": "code",
      "source": [
        "df.head()"
      ],
      "metadata": {
        "id": "3E0QelTX25FO"
      },
      "execution_count": null,
      "outputs": []
    },
    {
      "cell_type": "code",
      "source": [
        "x=df.iloc[:,1:3]\n",
        "y=df.iloc[:,0]"
      ],
      "metadata": {
        "id": "0jgRpBPJ272P"
      },
      "execution_count": null,
      "outputs": []
    },
    {
      "cell_type": "code",
      "source": [
        "y"
      ],
      "metadata": {
        "id": "HphlfWZ23Bzu"
      },
      "execution_count": null,
      "outputs": []
    },
    {
      "cell_type": "code",
      "source": [
        "x_train,x_test,y_train,y_test=train_test_split(x,y,test_size=0.2,random_state=42)"
      ],
      "metadata": {
        "id": "2HcndrdF3CG0"
      },
      "execution_count": null,
      "outputs": []
    },
    {
      "cell_type": "code",
      "source": [
        "y_train.shape"
      ],
      "metadata": {
        "id": "jbPAKzHkG7EG"
      },
      "execution_count": null,
      "outputs": []
    },
    {
      "cell_type": "code",
      "source": [
        "plt.figure(figsize=(14,4))\n",
        "plt.subplot(121)\n",
        "sns.distplot(x_train['Age'])\n",
        "plt.title('Age PDF')\n",
        "\n",
        "plt.subplot(122)\n",
        "stats.probplot(x_train['Age'],dist=\"norm\",plot=plt)\n",
        "plt.title('Age QQ plot')\n",
        "plt.show()"
      ],
      "metadata": {
        "id": "aW5_SCx43Utv"
      },
      "execution_count": null,
      "outputs": []
    },
    {
      "cell_type": "code",
      "source": [
        "plt.figure(figsize=(14,4))\n",
        "plt.subplot(121)\n",
        "sns.distplot(x_train['Fare'])\n",
        "plt.title('Age  PDF')\n",
        "\n",
        "plt.subplot(122)\n",
        "stats.probplot(x_train['Fare'],dist='norm',plot=plt)\n",
        "plt.title('Age QQ plot')\n",
        "plt.show()\n"
      ],
      "metadata": {
        "id": "HvM-wj-C4Fxd"
      },
      "execution_count": null,
      "outputs": []
    },
    {
      "cell_type": "code",
      "source": [
        "clf=LogisticRegression()\n",
        "clf2=DecisionTreeClassifier()"
      ],
      "metadata": {
        "id": "GnYyEwg35-hq"
      },
      "execution_count": null,
      "outputs": []
    },
    {
      "cell_type": "code",
      "source": [
        "clf.fit(x_train,y_train)\n",
        "clf2.fit(x_train,y_train)\n",
        "\n",
        "y_pred = clf.predict(x_test)\n",
        "y_pred1 = clf2.predict(x_test)\n",
        "\n",
        "print(\"Accuracy LR\",accuracy_score(y_test,y_pred))\n",
        "print(\"Accuracy DT\",accuracy_score(y_test,y_pred1))"
      ],
      "metadata": {
        "id": "sk2U9uAWGO9C"
      },
      "execution_count": null,
      "outputs": []
    },
    {
      "cell_type": "code",
      "source": [
        "trf=FunctionTransformer(func=np.log1p)"
      ],
      "metadata": {
        "id": "wQ5sm9ikGu3b"
      },
      "execution_count": null,
      "outputs": []
    },
    {
      "cell_type": "code",
      "source": [
        "x_train_transformed=trf.fit_transform(x_train)\n",
        "x_test_transformed=trf.transform(x_test)"
      ],
      "metadata": {
        "id": "eOcFcT3ZSxkU"
      },
      "execution_count": null,
      "outputs": []
    },
    {
      "cell_type": "code",
      "source": [
        "clf=LogisticRegression()\n",
        "clf2=DecisionTreeClassifier()\n"
      ],
      "metadata": {
        "id": "olVS5iUpS-Nt"
      },
      "execution_count": null,
      "outputs": []
    },
    {
      "cell_type": "code",
      "source": [
        "clf.fit(x_train_transformed,y_train)\n",
        "clf2.fit(x_train_transformed,y_train)\n"
      ],
      "metadata": {
        "id": "Wa9aDU5ZTFCW"
      },
      "execution_count": null,
      "outputs": []
    },
    {
      "cell_type": "code",
      "source": [
        "y_pred=clf.predict(x_test_transformed)\n",
        "y_pred1=clf2.predict(x_test_transformed)\n",
        "\n",
        "print(\"Accuracy LR\",accuracy_score(y_test,y_pred))\n",
        "print(\"Accuracy DT\",accuracy_score(y_test,y_pred))\n"
      ],
      "metadata": {
        "id": "4IGQE24vTOU7"
      },
      "execution_count": null,
      "outputs": []
    },
    {
      "cell_type": "code",
      "source": [
        "x_transformed=trf.fit_transform(x)"
      ],
      "metadata": {
        "id": "Gxf-FoIojuT_"
      },
      "execution_count": null,
      "outputs": []
    },
    {
      "cell_type": "code",
      "source": [
        "clf=LogisticRegression()\n",
        "clf2=DecisionTreeClassifier()\n"
      ],
      "metadata": {
        "id": "LB1LWP0Gj9H3"
      },
      "execution_count": null,
      "outputs": []
    },
    {
      "cell_type": "code",
      "source": [
        "print('LR',np.mean(cross_val_score(clf,x_transformed,y,scoring='accuracy')))\n",
        "print(\"DT\",np.mean(cross_val_score(clf2,x_transformed,y,scoring='accuracy',cv=10)))\n"
      ],
      "metadata": {
        "id": "qkEpRom3kH3O"
      },
      "execution_count": null,
      "outputs": []
    },
    {
      "cell_type": "code",
      "source": [
        "plt.figure(figsize=(14,4))\n",
        "\n",
        "plt.subplot(121)\n",
        "stats.probplot(x_train['Fare'], dist=\"norm\", plot=plt)\n",
        "plt.title('Fare Before Log')\n",
        "\n",
        "plt.subplot(122)\n",
        "stats.probplot(x_train_transformed['Fare'], dist=\"norm\", plot=plt)\n",
        "plt.title('Fare After Log')\n",
        "\n",
        "plt.show()"
      ],
      "metadata": {
        "id": "Sa5Rxv_TnXA0"
      },
      "execution_count": null,
      "outputs": []
    },
    {
      "cell_type": "code",
      "source": [
        "plt.figure(figsize=(14,4))\n",
        "\n",
        "plt.subplot(121)\n",
        "stats.probplot(x_train['Age'], dist=\"norm\", plot=plt)\n",
        "plt.title('Age Before Log')\n",
        "\n",
        "plt.subplot(122)\n",
        "stats.probplot(x_train_transformed['Age'], dist=\"norm\", plot=plt)\n",
        "plt.title('Age After Log')\n",
        "\n",
        "plt.show()"
      ],
      "metadata": {
        "id": "H6aKR8OTnlyT"
      },
      "execution_count": null,
      "outputs": []
    },
    {
      "cell_type": "code",
      "source": [
        "trf2 = ColumnTransformer([('log',FunctionTransformer(np.log1p),['Fare'])],remainder='passthrough')\n",
        "\n",
        "X_train_transformed2 = trf2.fit_transform(x_train)\n",
        "X_test_transformed2 = trf2.transform(x_test)"
      ],
      "metadata": {
        "id": "3sAUChyQnuoj"
      },
      "execution_count": null,
      "outputs": []
    },
    {
      "cell_type": "code",
      "source": [
        "clf = LogisticRegression()\n",
        "clf2 = DecisionTreeClassifier()\n",
        "\n",
        "clf.fit(X_train_transformed2,y_train)\n",
        "clf2.fit(X_train_transformed2,y_train)\n",
        "\n",
        "y_pred = clf.predict(X_test_transformed2)\n",
        "y_pred2 = clf2.predict(X_test_transformed2)\n",
        "\n",
        "print(\"Accuracy LR\",accuracy_score(y_test,y_pred))\n",
        "print(\"Accuracy DT\",accuracy_score(y_test,y_pred2))"
      ],
      "metadata": {
        "id": "dzYVvQHen5RL"
      },
      "execution_count": null,
      "outputs": []
    },
    {
      "cell_type": "code",
      "source": [
        "X_transformed2 = trf2.fit_transform(x)\n",
        "\n",
        "clf = LogisticRegression()\n",
        "clf2 = DecisionTreeClassifier()\n",
        "\n",
        "print(\"LR\",np.mean(cross_val_score(clf,X_transformed2,y,scoring='accuracy',cv=10)))\n",
        "print(\"DT\",np.mean(cross_val_score(clf2,X_transformed2,y,scoring='accuracy',cv=10)))"
      ],
      "metadata": {
        "id": "b8_luDkFooSN"
      },
      "execution_count": null,
      "outputs": []
    },
    {
      "cell_type": "code",
      "source": [
        "def apply_transform(transform):\n",
        "    X = df.iloc[:,1:3]\n",
        "    y = df.iloc[:,0]\n",
        "\n",
        "    trf = ColumnTransformer([('log',FunctionTransformer(transform),['Fare'])],remainder='passthrough')\n",
        "\n",
        "    X_trans = trf.fit_transform(X)\n",
        "\n",
        "    clf = LogisticRegression()\n",
        "\n",
        "    print(\"Accuracy\",np.mean(cross_val_score(clf,X_trans,y,scoring='accuracy',cv=10)))\n",
        "\n",
        "    plt.figure(figsize=(14,4))\n",
        "\n",
        "    plt.subplot(121)\n",
        "    stats.probplot(X['Fare'], dist=\"norm\", plot=plt)\n",
        "    plt.title('Fare Before Transform')\n",
        "\n",
        "    plt.subplot(122)\n",
        "    stats.probplot(X_trans[:,0], dist=\"norm\", plot=plt)\n",
        "    plt.title('Fare After Transform')\n",
        "\n",
        "    plt.show()"
      ],
      "metadata": {
        "id": "bKXdN7Xlowju"
      },
      "execution_count": null,
      "outputs": []
    },
    {
      "cell_type": "code",
      "source": [
        "apply_transform(np.sin)\n"
      ],
      "metadata": {
        "id": "4cldV9TpoziM"
      },
      "execution_count": null,
      "outputs": []
    }
  ]
}