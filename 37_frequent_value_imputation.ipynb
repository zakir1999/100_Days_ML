{
  "nbformat": 4,
  "nbformat_minor": 0,
  "metadata": {
    "colab": {
      "private_outputs": true,
      "provenance": [],
      "authorship_tag": "ABX9TyNX+SyGvmrQ4xANLmWUeJZX",
      "include_colab_link": true
    },
    "kernelspec": {
      "name": "python3",
      "display_name": "Python 3"
    },
    "language_info": {
      "name": "python"
    }
  },
  "cells": [
    {
      "cell_type": "markdown",
      "metadata": {
        "id": "view-in-github",
        "colab_type": "text"
      },
      "source": [
        "<a href=\"https://colab.research.google.com/github/zakir1999/100_Days_ML/blob/main/37_frequent_value_imputation.ipynb\" target=\"_parent\"><img src=\"https://colab.research.google.com/assets/colab-badge.svg\" alt=\"Open In Colab\"/></a>"
      ]
    },
    {
      "cell_type": "code",
      "execution_count": null,
      "metadata": {
        "id": "D_N0U24CdNra"
      },
      "outputs": [],
      "source": [
        "import pandas as pd\n",
        "import numpy as np\n",
        "import matplotlib.pyplot as plt"
      ]
    },
    {
      "cell_type": "code",
      "source": [
        "df=pd.read_csv('housing.csv',usecols=['GarageQual','FireplaceQu','SalePrice'])"
      ],
      "metadata": {
        "id": "9lQa742FdYnj"
      },
      "execution_count": null,
      "outputs": []
    },
    {
      "cell_type": "code",
      "source": [
        "df.head()"
      ],
      "metadata": {
        "id": "Y5nfEdWHdlj3"
      },
      "execution_count": null,
      "outputs": []
    },
    {
      "cell_type": "code",
      "source": [
        "df.isnull().mean()*100"
      ],
      "metadata": {
        "id": "vr6KD62tdmDr"
      },
      "execution_count": null,
      "outputs": []
    },
    {
      "cell_type": "code",
      "source": [
        "df['GarageQual'].value_counts().plot(kind='bar')"
      ],
      "metadata": {
        "id": "sFYg35zXdvB-"
      },
      "execution_count": null,
      "outputs": []
    },
    {
      "cell_type": "code",
      "source": [
        "df['GarageQual'].mode()\n"
      ],
      "metadata": {
        "id": "YBMOM0mAd1o_"
      },
      "execution_count": null,
      "outputs": []
    },
    {
      "cell_type": "code",
      "source": [
        "fig=plt.figure()\n",
        "ax=fig.add_subplot(111)\n",
        "df[df['GarageQual']=='TA']['SalePrice'].plot(kind='kde',ax=ax)\n",
        "\n",
        "df[df['GarageQual'].isnull()]['SalePrice'].plot(kind='kde',ax=ax,color='red')\n",
        "\n",
        "lines,labels=ax.get_legend_handles_labels()\n",
        "labels=['Houses with TA','Houses with NA']\n",
        "\n",
        "ax.legend(lines,labels,loc='best')\n",
        "\n",
        "plt.title('GarageQual')"
      ],
      "metadata": {
        "id": "1AjQUVyYd6aG"
      },
      "execution_count": null,
      "outputs": []
    },
    {
      "cell_type": "code",
      "source": [
        "temp=df[df['GarageQual']=='TA']['SalePrice']"
      ],
      "metadata": {
        "id": "d15GIF8neqCL"
      },
      "execution_count": null,
      "outputs": []
    },
    {
      "cell_type": "code",
      "source": [
        "df['GarageQual'].fillna('TA',inplace=True)\n"
      ],
      "metadata": {
        "id": "T852SBu2fFu_"
      },
      "execution_count": null,
      "outputs": []
    },
    {
      "cell_type": "code",
      "source": [
        "df['GarageQual'].value_counts().plot(kind='bar')"
      ],
      "metadata": {
        "id": "KnTeUDOafLwP"
      },
      "execution_count": null,
      "outputs": []
    },
    {
      "cell_type": "code",
      "source": [
        "fig = plt.figure()\n",
        "ax = fig.add_subplot(111)\n",
        "\n",
        "\n",
        "temp.plot(kind='kde', ax=ax)\n",
        "\n",
        "# distribution of the variable after imputation\n",
        "df[df['GarageQual'] == 'TA']['SalePrice'].plot(kind='kde', ax=ax, color='red')\n",
        "\n",
        "lines, labels = ax.get_legend_handles_labels()\n",
        "labels = ['Original variable', 'Imputed variable']\n",
        "ax.legend(lines, labels, loc='best')\n",
        "\n",
        "# add title\n",
        "plt.title('GarageQual')"
      ],
      "metadata": {
        "id": "RYYVDq8EfRbf"
      },
      "execution_count": null,
      "outputs": []
    },
    {
      "cell_type": "code",
      "source": [
        "df['FireplaceQu'].value_counts().plot(kind='bar')\n"
      ],
      "metadata": {
        "id": "7dUOTg7tfWeI"
      },
      "execution_count": null,
      "outputs": []
    },
    {
      "cell_type": "code",
      "source": [
        "df['FireplaceQu'].mode()\n"
      ],
      "metadata": {
        "id": "lIU0PlI6fYzv"
      },
      "execution_count": null,
      "outputs": []
    },
    {
      "cell_type": "code",
      "source": [
        "fig = plt.figure()\n",
        "ax = fig.add_subplot(111)\n",
        "\n",
        "df[df['FireplaceQu']=='Gd']['SalePrice'].plot(kind='kde', ax=ax)\n",
        "\n",
        "df[df['FireplaceQu'].isnull()]['SalePrice'].plot(kind='kde', ax=ax, color='red')\n",
        "\n",
        "lines, labels = ax.get_legend_handles_labels()\n",
        "labels = ['Houses with Gd', 'Houses with NA']\n",
        "ax.legend(lines, labels, loc='best')\n",
        "\n",
        "plt.title('FireplaceQu')"
      ],
      "metadata": {
        "id": "rMWSqScgfacV"
      },
      "execution_count": null,
      "outputs": []
    },
    {
      "cell_type": "code",
      "source": [
        "\n",
        "temp = df[df['FireplaceQu']=='Gd']['SalePrice']"
      ],
      "metadata": {
        "id": "33WAkrk9fcsF"
      },
      "execution_count": null,
      "outputs": []
    },
    {
      "cell_type": "code",
      "source": [
        "df['FireplaceQu'].fillna('Gd', inplace=True)\n"
      ],
      "metadata": {
        "id": "E3SYheytffMo"
      },
      "execution_count": null,
      "outputs": []
    },
    {
      "cell_type": "code",
      "source": [
        "df['FireplaceQu'].value_counts().plot(kind='bar')\n"
      ],
      "metadata": {
        "id": "TzccUHOKfgSG"
      },
      "execution_count": null,
      "outputs": []
    },
    {
      "cell_type": "code",
      "source": [
        "fig = plt.figure()\n",
        "ax = fig.add_subplot(111)\n",
        "\n",
        "\n",
        "temp.plot(kind='kde', ax=ax)\n",
        "\n",
        "# distribution of the variable after imputation\n",
        "df[df['FireplaceQu'] == 'Gd']['SalePrice'].plot(kind='kde', ax=ax, color='red')\n",
        "\n",
        "lines, labels = ax.get_legend_handles_labels()\n",
        "labels = ['Original variable', 'Imputed variable']\n",
        "ax.legend(lines, labels, loc='best')\n",
        "\n",
        "# add title\n",
        "plt.title('FireplaceQu')"
      ],
      "metadata": {
        "id": "hDHv-9uSficd"
      },
      "execution_count": null,
      "outputs": []
    },
    {
      "cell_type": "code",
      "source": [
        "from sklearn.model_selection import train_test_split\n",
        "X_train,X_test,y_train,y_test = train_test_split(df.drop(columns=['SalePrice']),df['SalePrice'],test_size=0.2)\n"
      ],
      "metadata": {
        "id": "3jGEItl4flQl"
      },
      "execution_count": null,
      "outputs": []
    },
    {
      "cell_type": "code",
      "source": [
        "from sklearn.impute import SimpleImputer\n",
        "imputer = SimpleImputer(strategy='most_frequent')\n"
      ],
      "metadata": {
        "id": "9_r_qfAQfmp-"
      },
      "execution_count": null,
      "outputs": []
    },
    {
      "cell_type": "code",
      "source": [
        "X_train = imputer.fit_transform(X_train)\n",
        "X_test = imputer.transform(X_train)\n",
        "imputer.statistics_\n"
      ],
      "metadata": {
        "id": "884P6Gfofpkw"
      },
      "execution_count": null,
      "outputs": []
    },
    {
      "cell_type": "code",
      "source": [],
      "metadata": {
        "id": "hXUJKEPffsVN"
      },
      "execution_count": null,
      "outputs": []
    }
  ]
}