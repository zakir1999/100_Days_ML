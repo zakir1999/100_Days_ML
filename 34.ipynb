{
  "nbformat": 4,
  "nbformat_minor": 0,
  "metadata": {
    "colab": {
      "private_outputs": true,
      "provenance": [],
      "authorship_tag": "ABX9TyMT1LtNjDWGuQYS19qGlI8e",
      "include_colab_link": true
    },
    "kernelspec": {
      "name": "python3",
      "display_name": "Python 3"
    },
    "language_info": {
      "name": "python"
    }
  },
  "cells": [
    {
      "cell_type": "markdown",
      "metadata": {
        "id": "view-in-github",
        "colab_type": "text"
      },
      "source": [
        "<a href=\"https://colab.research.google.com/github/zakir1999/100_Days_ML/blob/main/34.ipynb\" target=\"_parent\"><img src=\"https://colab.research.google.com/assets/colab-badge.svg\" alt=\"Open In Colab\"/></a>"
      ]
    },
    {
      "cell_type": "code",
      "execution_count": null,
      "metadata": {
        "id": "d-xwpATAk3Hy"
      },
      "outputs": [],
      "source": []
    },
    {
      "cell_type": "markdown",
      "source": [
        "# Handling date-and-time"
      ],
      "metadata": {
        "id": "LbjMRNQ_lII-"
      }
    },
    {
      "cell_type": "code",
      "source": [
        "import numpy as np\n",
        "import pandas as pd"
      ],
      "metadata": {
        "id": "E0Y8VDEPlinR"
      },
      "execution_count": null,
      "outputs": []
    },
    {
      "cell_type": "code",
      "source": [
        "date=pd.read_csv('orders.csv')\n",
        "time=pd.read_csv('messages.csv')"
      ],
      "metadata": {
        "id": "Jp0d4hmWllrS"
      },
      "execution_count": null,
      "outputs": []
    },
    {
      "cell_type": "code",
      "source": [
        "date.head()"
      ],
      "metadata": {
        "id": "7ZuNB-Djl6uW"
      },
      "execution_count": null,
      "outputs": []
    },
    {
      "cell_type": "code",
      "source": [
        "time.head()"
      ],
      "metadata": {
        "id": "kPFoV-48l-ot"
      },
      "execution_count": null,
      "outputs": []
    },
    {
      "cell_type": "code",
      "source": [
        "date.info()\n"
      ],
      "metadata": {
        "id": "KLhN1pRVmGsW"
      },
      "execution_count": null,
      "outputs": []
    },
    {
      "cell_type": "markdown",
      "source": [
        "# Working with Dates"
      ],
      "metadata": {
        "id": "p2MjWiuImVbH"
      }
    },
    {
      "cell_type": "code",
      "source": [
        "date['date']=pd.to_datetime(date['date'])"
      ],
      "metadata": {
        "id": "St-RiZy4mQCA"
      },
      "execution_count": null,
      "outputs": []
    },
    {
      "cell_type": "code",
      "source": [
        "date.info()"
      ],
      "metadata": {
        "id": "YBtWddgrmdLT"
      },
      "execution_count": null,
      "outputs": []
    },
    {
      "cell_type": "markdown",
      "source": [
        "# 1.Extract year\n",
        "\n"
      ],
      "metadata": {
        "id": "Q31DGfjVmm2t"
      }
    },
    {
      "cell_type": "code",
      "source": [
        "date['date_year']=date['date'].dt.year"
      ],
      "metadata": {
        "id": "eUkBSO7YmiTD"
      },
      "execution_count": null,
      "outputs": []
    },
    {
      "cell_type": "code",
      "source": [
        "date['date_year']"
      ],
      "metadata": {
        "id": "Jz4rBnANmwHO"
      },
      "execution_count": null,
      "outputs": []
    },
    {
      "cell_type": "markdown",
      "source": [
        "# Extract month"
      ],
      "metadata": {
        "id": "Ien5BmQFm4X9"
      }
    },
    {
      "cell_type": "code",
      "source": [
        "date['date_month_no']=date['date'].dt.month\n",
        "date.head()"
      ],
      "metadata": {
        "id": "aZRblEJomzTu"
      },
      "execution_count": null,
      "outputs": []
    },
    {
      "cell_type": "code",
      "source": [
        "date['date_month_name']=date['date'].dt.month_name()"
      ],
      "metadata": {
        "id": "WPtCDa1ynUZ4"
      },
      "execution_count": null,
      "outputs": []
    },
    {
      "cell_type": "code",
      "source": [
        "date['date_month_name'].head()"
      ],
      "metadata": {
        "id": "2BcvB6x9oN74"
      },
      "execution_count": null,
      "outputs": []
    },
    {
      "cell_type": "markdown",
      "source": [
        "## Extract Days"
      ],
      "metadata": {
        "id": "5fy_Kt39odvH"
      }
    },
    {
      "cell_type": "code",
      "source": [
        "date['date_day']=date['date'].dt.day\n",
        "\n",
        "date.head()"
      ],
      "metadata": {
        "id": "rvmmj6z-oYow"
      },
      "execution_count": null,
      "outputs": []
    },
    {
      "cell_type": "code",
      "source": [
        "# day of week\n",
        "\n",
        "date['date_dow']=date['date'].dt.dayofweek\n",
        "date.head()"
      ],
      "metadata": {
        "id": "Fx0DaMl2onH9"
      },
      "execution_count": null,
      "outputs": []
    },
    {
      "cell_type": "code",
      "source": [
        "date['date_dow_name']=date['date'].dt.day_name()"
      ],
      "metadata": {
        "id": "lD8_vI4fpW1H"
      },
      "execution_count": null,
      "outputs": []
    },
    {
      "cell_type": "code",
      "source": [
        "date['date_dow_name'].head()"
      ],
      "metadata": {
        "id": "waiOK8UzqHrO"
      },
      "execution_count": null,
      "outputs": []
    },
    {
      "cell_type": "code",
      "source": [
        "# is weekend?\n",
        "\n",
        "\n",
        "date['date_is_weekend']=np.where(date['date_dow_name'].isin(['Friday','Saturday']),1,0)\n",
        "\n",
        "date.drop(columns=['product_id','city_id','orders']).head()"
      ],
      "metadata": {
        "id": "ZuFAQS3PqLpN"
      },
      "execution_count": null,
      "outputs": []
    },
    {
      "cell_type": "markdown",
      "source": [
        "## Extract week of the year"
      ],
      "metadata": {
        "id": "M47E4ECorPkT"
      }
    },
    {
      "cell_type": "code",
      "source": [
        "date['date_week']=date['date'].dt.strftime(\"%V\")\n",
        "\n",
        "date.drop(columns=['product_id','city_id','orders']).head()"
      ],
      "metadata": {
        "id": "9633xForqfJw"
      },
      "execution_count": null,
      "outputs": []
    },
    {
      "cell_type": "markdown",
      "source": [
        "# Extract Quarter"
      ],
      "metadata": {
        "id": "G_piQFUmuvJV"
      }
    },
    {
      "cell_type": "code",
      "source": [
        "date['quarter']=date['date'].dt.quarter\n",
        "date.drop(columns=['product_id','city_id','orders']).head()"
      ],
      "metadata": {
        "id": "Z6JIY1uyqS_w"
      },
      "execution_count": null,
      "outputs": []
    },
    {
      "cell_type": "code",
      "source": [
        "date['quarter'].head(20)"
      ],
      "metadata": {
        "id": "JJKTQSBJu-H3"
      },
      "execution_count": null,
      "outputs": []
    },
    {
      "cell_type": "markdown",
      "source": [
        "# Extract Semester"
      ],
      "metadata": {
        "id": "TUIUZ_jZvXH1"
      }
    },
    {
      "cell_type": "code",
      "source": [
        "date['semester']=np.where(date['quarter'].isin([1,2]),1,2)\n",
        "date.drop(columns=['product_id','city_id','orders']).head()"
      ],
      "metadata": {
        "id": "-Py9dU2xvSSH"
      },
      "execution_count": null,
      "outputs": []
    },
    {
      "cell_type": "markdown",
      "source": [
        "# Extract Time elapsed between dates"
      ],
      "metadata": {
        "id": "p-hY5K1Uv2KX"
      }
    },
    {
      "cell_type": "code",
      "source": [
        "import datetime\n",
        "today=datetime.datetime.today()\n",
        "today"
      ],
      "metadata": {
        "id": "tXM-D3m_vtP_"
      },
      "execution_count": null,
      "outputs": []
    },
    {
      "cell_type": "code",
      "source": [
        "today-date['date']"
      ],
      "metadata": {
        "id": "KcQbOKx5wAS1"
      },
      "execution_count": null,
      "outputs": []
    },
    {
      "cell_type": "code",
      "source": [
        "(today-date['date']).dt.days"
      ],
      "metadata": {
        "id": "GUdFJMYIwIG9"
      },
      "execution_count": null,
      "outputs": []
    },
    {
      "cell_type": "code",
      "source": [
        "# Months passed\n",
        "\n",
        "np.round((today-date['date'])/np.timedelta64(1,'M'),0)"
      ],
      "metadata": {
        "id": "A52NUhzLwQrC"
      },
      "execution_count": null,
      "outputs": []
    },
    {
      "cell_type": "code",
      "source": [
        "time.info()"
      ],
      "metadata": {
        "id": "w2h2D0kcwUrH"
      },
      "execution_count": null,
      "outputs": []
    },
    {
      "cell_type": "code",
      "source": [
        "time['date']=pd.to_datetime(time['date'])"
      ],
      "metadata": {
        "id": "M7AiRe5twt4e"
      },
      "execution_count": null,
      "outputs": []
    },
    {
      "cell_type": "code",
      "source": [
        "time.info()"
      ],
      "metadata": {
        "id": "egHVSo6AwzvY"
      },
      "execution_count": null,
      "outputs": []
    },
    {
      "cell_type": "code",
      "source": [
        "time['hour']=time['date'].dt.year\n",
        "time['min']=time['date'].dt.minute\n",
        "time['sec']=time['date'].dt.second\n",
        "time.head()"
      ],
      "metadata": {
        "id": "twK5yHDfw2Qv"
      },
      "execution_count": null,
      "outputs": []
    },
    {
      "cell_type": "markdown",
      "source": [
        "# Extract Time part"
      ],
      "metadata": {
        "id": "zgUh5sHdxIxX"
      }
    },
    {
      "cell_type": "code",
      "source": [
        "time['time']=time['date'].dt.time\n",
        "time.head()"
      ],
      "metadata": {
        "id": "V9ydGuHrxE3I"
      },
      "execution_count": null,
      "outputs": []
    },
    {
      "cell_type": "code",
      "source": [
        "today-time['date']"
      ],
      "metadata": {
        "id": "W42hLx2xxQw1"
      },
      "execution_count": null,
      "outputs": []
    },
    {
      "cell_type": "code",
      "source": [
        "(today - time['date'])/np.timedelta64(1,'s')\n"
      ],
      "metadata": {
        "id": "0Z97Y4-dxWys"
      },
      "execution_count": null,
      "outputs": []
    },
    {
      "cell_type": "code",
      "source": [
        "# in minutes\n",
        "\n",
        "(today - time['date'])/np.timedelta64(1,'m')"
      ],
      "metadata": {
        "id": "H8dOuv4kxed2"
      },
      "execution_count": null,
      "outputs": []
    },
    {
      "cell_type": "code",
      "source": [
        "# in hours\n",
        "\n",
        "(today - time['date'])/np.timedelta64(1,'h')"
      ],
      "metadata": {
        "id": "OC2gbNZwxhEy"
      },
      "execution_count": null,
      "outputs": []
    }
  ]
}