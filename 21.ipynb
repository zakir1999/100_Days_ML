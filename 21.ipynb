{
  "nbformat": 4,
  "nbformat_minor": 0,
  "metadata": {
    "colab": {
      "private_outputs": true,
      "provenance": [],
      "authorship_tag": "ABX9TyMOdk6GzgKofAgm5rjSaVEl",
      "include_colab_link": true
    },
    "kernelspec": {
      "name": "python3",
      "display_name": "Python 3"
    },
    "language_info": {
      "name": "python"
    }
  },
  "cells": [
    {
      "cell_type": "markdown",
      "metadata": {
        "id": "view-in-github",
        "colab_type": "text"
      },
      "source": [
        "<a href=\"https://colab.research.google.com/github/zakir1999/100_Days_ML/blob/main/21.ipynb\" target=\"_parent\"><img src=\"https://colab.research.google.com/assets/colab-badge.svg\" alt=\"Open In Colab\"/></a>"
      ]
    },
    {
      "cell_type": "code",
      "execution_count": null,
      "metadata": {
        "id": "XC1JaQ_x9EhV"
      },
      "outputs": [],
      "source": [
        "import pandas as pd\n",
        "import seaborn as sns\n"
      ]
    },
    {
      "cell_type": "code",
      "source": [
        "tips=sns.load_dataset('tips')"
      ],
      "metadata": {
        "id": "1FQrHpy89oP4"
      },
      "execution_count": null,
      "outputs": []
    },
    {
      "cell_type": "code",
      "source": [
        "titanic=pd.read_csv('train.csv')"
      ],
      "metadata": {
        "id": "xqSxXi1e9u24"
      },
      "execution_count": null,
      "outputs": []
    },
    {
      "cell_type": "code",
      "source": [
        "titanic"
      ],
      "metadata": {
        "id": "mln1G9tS916C"
      },
      "execution_count": null,
      "outputs": []
    },
    {
      "cell_type": "code",
      "source": [
        "flight=sns.load_dataset('flights')"
      ],
      "metadata": {
        "id": "xdVcTkn193Th"
      },
      "execution_count": null,
      "outputs": []
    },
    {
      "cell_type": "code",
      "source": [
        "iris=sns.load_dataset('iris')"
      ],
      "metadata": {
        "id": "8akA9u3a9_5S"
      },
      "execution_count": null,
      "outputs": []
    },
    {
      "cell_type": "code",
      "source": [
        "iris"
      ],
      "metadata": {
        "id": "h21AJm3C-FNa"
      },
      "execution_count": null,
      "outputs": []
    },
    {
      "cell_type": "code",
      "source": [
        "tips"
      ],
      "metadata": {
        "id": "TjWnw5ybAQ5l"
      },
      "execution_count": null,
      "outputs": []
    },
    {
      "cell_type": "markdown",
      "source": [
        "# Scatterplot(Numerical - Numerical)"
      ],
      "metadata": {
        "id": "XZGeHOFv-Xir"
      }
    },
    {
      "cell_type": "code",
      "source": [
        "\n",
        "sns.scatterplot(x=tips['total_bill'],y=tips['tip'],hue=tips['sex'],style=tips['smoker'],size=tips['size'] )\n",
        "#sns.scatterplot(x='total_bill',y='tip',data=tips)"
      ],
      "metadata": {
        "id": "abeCgKQZ-TMB"
      },
      "execution_count": null,
      "outputs": []
    },
    {
      "cell_type": "markdown",
      "source": [
        "# Bar Plot(Numerical- Categorical)"
      ],
      "metadata": {
        "id": "xeG71BuUCogL"
      }
    },
    {
      "cell_type": "code",
      "source": [
        "titanic.head()"
      ],
      "metadata": {
        "id": "sU1Wj3MJ-KjR"
      },
      "execution_count": null,
      "outputs": []
    },
    {
      "cell_type": "code",
      "source": [
        "sns.barplot(x=titanic['Pclass'],y=titanic['Age'],hue=titanic['Sex'])"
      ],
      "metadata": {
        "id": "JvXjwPLeCvfK"
      },
      "execution_count": null,
      "outputs": []
    },
    {
      "cell_type": "code",
      "source": [
        "sns.barplot(x=titanic['Pclass'],y=titanic['Fare'],hue=titanic['Sex'])"
      ],
      "metadata": {
        "id": "4wMoCCDVC7fQ"
      },
      "execution_count": null,
      "outputs": []
    },
    {
      "cell_type": "markdown",
      "source": [
        "# Box Plot(Numerical - Categorical)"
      ],
      "metadata": {
        "id": "NP3FVMfxDnfy"
      }
    },
    {
      "cell_type": "code",
      "source": [
        "sns.boxplot(x='Sex',y='Age',hue='Survived',data=titanic)"
      ],
      "metadata": {
        "id": "4ak0rcJIDTD4"
      },
      "execution_count": null,
      "outputs": []
    },
    {
      "cell_type": "markdown",
      "source": [
        "# Distplot(Numerical-Categorical)"
      ],
      "metadata": {
        "id": "aGYI0vp3FGm1"
      }
    },
    {
      "cell_type": "code",
      "source": [
        "sns.distplot(titanic[titanic['Survived']==0]['Age'],hist=False)\n",
        "sns.distplot(titanic[titanic['Survived']==1]['Age'],hist=False)"
      ],
      "metadata": {
        "id": "1y9WtIibFZ3a"
      },
      "execution_count": null,
      "outputs": []
    },
    {
      "cell_type": "markdown",
      "source": [
        "# HeatMap(categorical-categorical)"
      ],
      "metadata": {
        "id": "Va7K6YOiFNPw"
      }
    },
    {
      "cell_type": "code",
      "source": [
        "sns.heatmap(pd.crosstab(titanic['Pclass'],titanic['Survived']))"
      ],
      "metadata": {
        "id": "Q56TNsgjGnkS"
      },
      "execution_count": null,
      "outputs": []
    },
    {
      "cell_type": "code",
      "source": [
        "# titanic.groupby('Pclass').mean()['Survived']*100\n",
        "# var=titanic.groupby('Embarked').mean()['Survived']*100"
      ],
      "metadata": {
        "id": "BPnADfw1HFOR"
      },
      "execution_count": null,
      "outputs": []
    },
    {
      "cell_type": "markdown",
      "source": [
        "# ClusterMap(categorical-categorical)"
      ],
      "metadata": {
        "id": "Q74shMOqFNHv"
      }
    },
    {
      "cell_type": "markdown",
      "source": [],
      "metadata": {
        "id": "BlVM6rFbFM9y"
      }
    },
    {
      "cell_type": "code",
      "source": [
        "sns.clustermap(pd.crosstab(titanic['Parch'],titanic['Survived']))"
      ],
      "metadata": {
        "id": "hqXUqHQNEiqn"
      },
      "execution_count": null,
      "outputs": []
    },
    {
      "cell_type": "markdown",
      "source": [
        "# Pairplot"
      ],
      "metadata": {
        "id": "Rz97y0K6K2mY"
      }
    },
    {
      "cell_type": "code",
      "source": [
        "iris.head()"
      ],
      "metadata": {
        "id": "hgf-xY0xKUNF"
      },
      "execution_count": null,
      "outputs": []
    },
    {
      "cell_type": "code",
      "source": [
        "sns.pairplot(iris,hue='species')"
      ],
      "metadata": {
        "id": "7qPR7hJkK9-w"
      },
      "execution_count": null,
      "outputs": []
    },
    {
      "cell_type": "markdown",
      "source": [
        "# LinePlot(Numerical-Numerical)"
      ],
      "metadata": {
        "id": "rp62ydyzLVI2"
      }
    },
    {
      "cell_type": "code",
      "source": [
        "flight.head()"
      ],
      "metadata": {
        "id": "wc1m2NUELBMh"
      },
      "execution_count": null,
      "outputs": []
    },
    {
      "cell_type": "code",
      "source": [
        "#new=flight.groupby('year').sum().reset_index()\n",
        "df = flight.groupby('year')['passengers'].sum().reset_index()\n",
        "df"
      ],
      "metadata": {
        "id": "vb0dW-I2LbvR"
      },
      "execution_count": null,
      "outputs": []
    },
    {
      "cell_type": "code",
      "source": [
        "sns.lineplot(x=df['year'],y=df['passengers'])"
      ],
      "metadata": {
        "id": "t-kLhzFULnjD"
      },
      "execution_count": null,
      "outputs": []
    },
    {
      "cell_type": "code",
      "source": [
        "var=flight.pivot_table(values='passengers',index='month',columns='year')\n",
        "var"
      ],
      "metadata": {
        "id": "wwWT_vcaMQgw"
      },
      "execution_count": null,
      "outputs": []
    },
    {
      "cell_type": "code",
      "source": [
        "sns.heatmap(var)"
      ],
      "metadata": {
        "id": "w-TfxjZDOIZF"
      },
      "execution_count": null,
      "outputs": []
    },
    {
      "cell_type": "code",
      "source": [
        "sns.clustermap(var)"
      ],
      "metadata": {
        "id": "Y4eyvjgfOSzg"
      },
      "execution_count": null,
      "outputs": []
    },
    {
      "cell_type": "code",
      "source": [],
      "metadata": {
        "id": "D525wke0OePY"
      },
      "execution_count": null,
      "outputs": []
    }
  ]
}