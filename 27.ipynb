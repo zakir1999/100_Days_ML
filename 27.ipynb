{
  "nbformat": 4,
  "nbformat_minor": 0,
  "metadata": {
    "colab": {
      "private_outputs": true,
      "provenance": [],
      "authorship_tag": "ABX9TyOOypbn2M2OS5JnEuS+KLe0",
      "include_colab_link": true
    },
    "kernelspec": {
      "name": "python3",
      "display_name": "Python 3"
    },
    "language_info": {
      "name": "python"
    }
  },
  "cells": [
    {
      "cell_type": "markdown",
      "metadata": {
        "id": "view-in-github",
        "colab_type": "text"
      },
      "source": [
        "<a href=\"https://colab.research.google.com/github/zakir1999/100_Days_ML/blob/main/27.ipynb\" target=\"_parent\"><img src=\"https://colab.research.google.com/assets/colab-badge.svg\" alt=\"Open In Colab\"/></a>"
      ]
    },
    {
      "cell_type": "markdown",
      "source": [
        "# One Hot Encoding(Handling categorical Data)\n",
        "\n",
        "### Multico linearity\n",
        "### Dummy Variable"
      ],
      "metadata": {
        "id": "-233RdFj_5Mt"
      }
    },
    {
      "cell_type": "code",
      "execution_count": null,
      "metadata": {
        "id": "Q7PZWeAX_u-l"
      },
      "outputs": [],
      "source": [
        "import numpy as np\n",
        "import pandas as pd\n"
      ]
    },
    {
      "cell_type": "code",
      "source": [
        "df=pd.read_csv('cars.csv')"
      ],
      "metadata": {
        "id": "KuMe5WukB9OG"
      },
      "execution_count": null,
      "outputs": []
    },
    {
      "cell_type": "code",
      "source": [
        "df.head()"
      ],
      "metadata": {
        "id": "RPm4MK_PCEdF"
      },
      "execution_count": null,
      "outputs": []
    },
    {
      "cell_type": "code",
      "source": [
        "df['brand'].value_counts()"
      ],
      "metadata": {
        "id": "68xsBpwyCK3c"
      },
      "execution_count": null,
      "outputs": []
    },
    {
      "cell_type": "code",
      "source": [
        "df['brand'].nunique()\n"
      ],
      "metadata": {
        "id": "ws53fw9gCbq0"
      },
      "execution_count": null,
      "outputs": []
    },
    {
      "cell_type": "code",
      "source": [
        "df['fuel'].value_counts()"
      ],
      "metadata": {
        "id": "egmR27bHChCs"
      },
      "execution_count": null,
      "outputs": []
    },
    {
      "cell_type": "code",
      "source": [
        "df['owner'].value_counts()"
      ],
      "metadata": {
        "id": "5-N7_fyUClfk"
      },
      "execution_count": null,
      "outputs": []
    },
    {
      "cell_type": "markdown",
      "source": [
        "\n",
        "\n",
        "# One Hot Encoding Using Pandas\n"
      ],
      "metadata": {
        "id": "1wKbfaisCrOW"
      }
    },
    {
      "cell_type": "code",
      "source": [
        "pd.get_dummies(df,columns=['fuel','owner'])"
      ],
      "metadata": {
        "id": "0tq32yYeCpxu"
      },
      "execution_count": null,
      "outputs": []
    },
    {
      "cell_type": "markdown",
      "source": [
        "# k-1 OneHotEncoding"
      ],
      "metadata": {
        "id": "wOOWFjWTDPiy"
      }
    },
    {
      "cell_type": "code",
      "source": [
        "pd.get_dummies(df,columns=['fuel','owner'],drop_first=True)"
      ],
      "metadata": {
        "id": "dNsaxeAFC-SM"
      },
      "execution_count": null,
      "outputs": []
    },
    {
      "cell_type": "markdown",
      "source": [
        "# OneHotEncoding Using sklearn"
      ],
      "metadata": {
        "id": "i74YhoOTD0GP"
      }
    },
    {
      "cell_type": "code",
      "source": [
        "from sklearn.model_selection import train_test_split\n",
        "x_train,x_test,y_train,y_test=train_test_split(df.iloc[:,0:4],df.iloc[:,-1],test_size=0.2,random_state=2)"
      ],
      "metadata": {
        "id": "ehZKTCDVDf40"
      },
      "execution_count": null,
      "outputs": []
    },
    {
      "cell_type": "code",
      "source": [
        "from sklearn.preprocessing import OneHotEncoder"
      ],
      "metadata": {
        "id": "LNjlEeP2EUbU"
      },
      "execution_count": null,
      "outputs": []
    },
    {
      "cell_type": "markdown",
      "source": [
        "# OneHotEncoding with Top categories"
      ],
      "metadata": {
        "id": "_gdWbV7CEj7k"
      }
    },
    {
      "cell_type": "code",
      "source": [
        "x_train.head()"
      ],
      "metadata": {
        "id": "Upy1FPS6Eiq0"
      },
      "execution_count": null,
      "outputs": []
    },
    {
      "cell_type": "code",
      "source": [
        "ohe=OneHotEncoder(drop='first',sparse=False,dtype=np.int32)\n"
      ],
      "metadata": {
        "id": "meljEe0-E8OD"
      },
      "execution_count": null,
      "outputs": []
    },
    {
      "cell_type": "code",
      "source": [
        "x_train_new=ohe.fit_transform(x_train[['fuel','owner']])\n"
      ],
      "metadata": {
        "id": "QqkPIxhMFlmO"
      },
      "execution_count": null,
      "outputs": []
    },
    {
      "cell_type": "code",
      "source": [
        "x_train_new"
      ],
      "metadata": {
        "id": "iHtVrMjAHEzS"
      },
      "execution_count": null,
      "outputs": []
    },
    {
      "cell_type": "code",
      "source": [
        "x_test_new=ohe.fit_transform(x_test[['fuel','owner']])"
      ],
      "metadata": {
        "id": "vRK0pT-pFscD"
      },
      "execution_count": null,
      "outputs": []
    },
    {
      "cell_type": "code",
      "source": [
        "np.hstack((x_train[['brand','km_driven']].values,x_train_new)).shape"
      ],
      "metadata": {
        "id": "BsplrY1aF599"
      },
      "execution_count": null,
      "outputs": []
    },
    {
      "cell_type": "markdown",
      "source": [
        "# OneHotEncoding with Top Categories"
      ],
      "metadata": {
        "id": "9HXeTantH9Hk"
      }
    },
    {
      "cell_type": "code",
      "source": [
        "counts=df['brand'].value_counts()"
      ],
      "metadata": {
        "id": "QwjHDEk-Hn_r"
      },
      "execution_count": null,
      "outputs": []
    },
    {
      "cell_type": "code",
      "source": [
        "df['brand'].nunique()\n",
        "threshold=100\n"
      ],
      "metadata": {
        "id": "5iFaww_UIDqE"
      },
      "execution_count": null,
      "outputs": []
    },
    {
      "cell_type": "code",
      "source": [
        "repl=counts[counts<=threshold].index"
      ],
      "metadata": {
        "id": "G4OB3PlJISWh"
      },
      "execution_count": null,
      "outputs": []
    },
    {
      "cell_type": "code",
      "source": [
        "pd.get_dummies(df['brand'].replace(repl,'uncommon')).sample(5)"
      ],
      "metadata": {
        "id": "igQuO-JgIXIx"
      },
      "execution_count": null,
      "outputs": []
    },
    {
      "cell_type": "code",
      "source": [],
      "metadata": {
        "id": "t9SUGbd5IeLb"
      },
      "execution_count": null,
      "outputs": []
    }
  ]
}