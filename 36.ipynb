{
  "nbformat": 4,
  "nbformat_minor": 0,
  "metadata": {
    "colab": {
      "private_outputs": true,
      "provenance": [],
      "authorship_tag": "ABX9TyMJAPhJ8TG5OVVXHB1R6IiZ",
      "include_colab_link": true
    },
    "kernelspec": {
      "name": "python3",
      "display_name": "Python 3"
    },
    "language_info": {
      "name": "python"
    }
  },
  "cells": [
    {
      "cell_type": "markdown",
      "metadata": {
        "id": "view-in-github",
        "colab_type": "text"
      },
      "source": [
        "<a href=\"https://colab.research.google.com/github/zakir1999/100_Days_ML/blob/main/36.ipynb\" target=\"_parent\"><img src=\"https://colab.research.google.com/assets/colab-badge.svg\" alt=\"Open In Colab\"/></a>"
      ]
    },
    {
      "cell_type": "markdown",
      "source": [
        "# Handling Missing Numerical Data"
      ],
      "metadata": {
        "id": "1izj9TennICA"
      }
    },
    {
      "cell_type": "code",
      "execution_count": null,
      "metadata": {
        "id": "BEmBqOkh7Zr-"
      },
      "outputs": [],
      "source": [
        "import numpy as np\n",
        "import pandas as pd\n",
        "import matplotlib.pyplot as plt\n"
      ]
    },
    {
      "cell_type": "code",
      "source": [
        "from sklearn.model_selection import train_test_split\n",
        "from sklearn.impute import SimpleImputer\n",
        "from sklearn.compose import ColumnTransformer"
      ],
      "metadata": {
        "id": "Wq8GdsqSU7cv"
      },
      "execution_count": null,
      "outputs": []
    },
    {
      "cell_type": "code",
      "source": [
        "df=pd.read_csv('titanic_toy.csv')"
      ],
      "metadata": {
        "id": "8fhrF-1auuro"
      },
      "execution_count": null,
      "outputs": []
    },
    {
      "cell_type": "code",
      "source": [
        "df.head()"
      ],
      "metadata": {
        "id": "HZUDsEWDu9on"
      },
      "execution_count": null,
      "outputs": []
    },
    {
      "cell_type": "code",
      "source": [
        "df.info()"
      ],
      "metadata": {
        "id": "vclLZe8Ju-bB"
      },
      "execution_count": null,
      "outputs": []
    },
    {
      "cell_type": "code",
      "source": [
        "df.isnull().mean()"
      ],
      "metadata": {
        "id": "VeDt394wvNWN"
      },
      "execution_count": null,
      "outputs": []
    },
    {
      "cell_type": "code",
      "source": [
        "x=df.drop(columns=['Survived'])\n",
        "y=df['Survived']"
      ],
      "metadata": {
        "id": "al8yTeQIvQX1"
      },
      "execution_count": null,
      "outputs": []
    },
    {
      "cell_type": "code",
      "source": [
        "x_train,x_test,y_train,y_test=train_test_split(x,y,test_size=0.2,random_state=2)"
      ],
      "metadata": {
        "id": "nytOs9alwcPE"
      },
      "execution_count": null,
      "outputs": []
    },
    {
      "cell_type": "code",
      "source": [
        "x_train.shape,x_test.shape"
      ],
      "metadata": {
        "id": "nEUxE5nuwoBd"
      },
      "execution_count": null,
      "outputs": []
    },
    {
      "cell_type": "code",
      "source": [
        "x_train.isnull().mean()*100"
      ],
      "metadata": {
        "id": "oYq4yWtBwrbH"
      },
      "execution_count": null,
      "outputs": []
    },
    {
      "cell_type": "code",
      "source": [
        "mean_age=x_train['Age'].mean()\n",
        "median_age=x_train['Age'].median()\n",
        "\n",
        "\n",
        "mean_fare=x_train['Fare'].mean()\n",
        "median_fare=x_train['Fare'].median()"
      ],
      "metadata": {
        "id": "mFKfppnlwvdF"
      },
      "execution_count": null,
      "outputs": []
    },
    {
      "cell_type": "code",
      "source": [
        "x_train['Age_median']=x_train['Age'].fillna(median_age)\n",
        "x_train['Age_mean']=x_train['Age'].fillna(mean_age)\n",
        "\n",
        "\n",
        "x_train['Fare_median']=x_train['Fare'].fillna(median_fare)\n",
        "x_train['Fare_mean']=x_train['Fare'].fillna(mean_fare)"
      ],
      "metadata": {
        "id": "Dm3IEhgMzHh0"
      },
      "execution_count": null,
      "outputs": []
    },
    {
      "cell_type": "code",
      "source": [
        "x_train.sample(5)"
      ],
      "metadata": {
        "id": "dS9UOFkd1uI7"
      },
      "execution_count": null,
      "outputs": []
    },
    {
      "cell_type": "code",
      "source": [
        "print('Original Age variable variance: ', x_train['Age'].var())\n",
        "print('Age Variance after median imputation: ', x_train['Age_median'].var())\n",
        "print('Age Variance after mean imputation: ', x_train['Age_mean'].var())\n",
        "\n",
        "print('Original Fare variable variance: ', x_train['Fare'].var())\n",
        "print('Fare Variance after median imputation: ', x_train['Fare_median'].var())\n",
        "print('Fare Variance after mean imputation: ', x_train['Fare_mean'].var())"
      ],
      "metadata": {
        "id": "SQC4dP1N2b8R"
      },
      "execution_count": null,
      "outputs": []
    },
    {
      "cell_type": "code",
      "source": [
        "fig = plt.figure()\n",
        "ax = fig.add_subplot(111)\n",
        "\n",
        "# original variable distribution\n",
        "x_train['Age'].plot(kind='kde', ax=ax)\n",
        "\n",
        "# variable imputed with the median\n",
        "x_train['Age_median'].plot(kind='kde', ax=ax, color='red')\n",
        "\n",
        "# variable imputed with the mean\n",
        "x_train['Age_mean'].plot(kind='kde', ax=ax, color='green')\n",
        "\n",
        "# add legends\n",
        "lines, labels = ax.get_legend_handles_labels()\n",
        "ax.legend(lines, labels, loc='best')"
      ],
      "metadata": {
        "id": "uv5dZNZxC5nd"
      },
      "execution_count": null,
      "outputs": []
    },
    {
      "cell_type": "code",
      "source": [
        "fig = plt.figure()\n",
        "ax = fig.add_subplot(111)\n",
        "\n",
        "# original variable distribution\n",
        "x_train['Fare'].plot(kind='kde', ax=ax)\n",
        "\n",
        "# variable imputed with the median\n",
        "x_train['Fare_median'].plot(kind='kde', ax=ax, color='red')\n",
        "\n",
        "# variable imputed with the mean\n",
        "x_train['Fare_mean'].plot(kind='kde', ax=ax, color='green')\n",
        "\n",
        "# add legends\n",
        "lines, labels = ax.get_legend_handles_labels()\n",
        "ax.legend(lines, labels, loc='best')"
      ],
      "metadata": {
        "id": "06DF6n6UDHKH"
      },
      "execution_count": null,
      "outputs": []
    },
    {
      "cell_type": "code",
      "source": [
        "x_train.cov()\n"
      ],
      "metadata": {
        "id": "N_r4XfRRDQ3l"
      },
      "execution_count": null,
      "outputs": []
    },
    {
      "cell_type": "code",
      "source": [
        "x_train.corr()\n"
      ],
      "metadata": {
        "id": "yvXDoxe1DUq3"
      },
      "execution_count": null,
      "outputs": []
    },
    {
      "cell_type": "code",
      "source": [
        "x_train[['Age', 'Age_median', 'Age_mean']].boxplot()\n"
      ],
      "metadata": {
        "id": "9LLKuXfBDZ_V"
      },
      "execution_count": null,
      "outputs": []
    },
    {
      "cell_type": "code",
      "source": [
        "x_train[['Fare', 'Fare_median', 'Fare_mean']].boxplot()\n"
      ],
      "metadata": {
        "id": "2KsNztUrDdEM"
      },
      "execution_count": null,
      "outputs": []
    },
    {
      "cell_type": "markdown",
      "source": [
        "# Using Sklearn\n"
      ],
      "metadata": {
        "id": "dEouznDkDhEF"
      }
    },
    {
      "cell_type": "code",
      "source": [
        "X_train,X_test,y_train,y_test = train_test_split(x,y,test_size=0.2,random_state=2)\n"
      ],
      "metadata": {
        "id": "GqLzxNaXDiet"
      },
      "execution_count": null,
      "outputs": []
    },
    {
      "cell_type": "code",
      "source": [
        "imputer1 = SimpleImputer(strategy='median')\n",
        "imputer2 = SimpleImputer(strategy='mean')"
      ],
      "metadata": {
        "id": "3xZJkOMqDplk"
      },
      "execution_count": null,
      "outputs": []
    },
    {
      "cell_type": "code",
      "source": [
        "trf = ColumnTransformer([\n",
        "    ('imputer1',imputer1,['Age']),\n",
        "    ('imputer2',imputer2,['Fare'])\n",
        "],remainder='passthrough')\n"
      ],
      "metadata": {
        "id": "hD4cHxqyDr4T"
      },
      "execution_count": null,
      "outputs": []
    },
    {
      "cell_type": "code",
      "source": [
        "trf.fit(X_train)\n"
      ],
      "metadata": {
        "id": "KmDFpHp1DtsL"
      },
      "execution_count": null,
      "outputs": []
    },
    {
      "cell_type": "code",
      "source": [
        "trf.named_transformers_['imputer1'].statistics_\n"
      ],
      "metadata": {
        "id": "gtNvZQgQDxm9"
      },
      "execution_count": null,
      "outputs": []
    },
    {
      "cell_type": "code",
      "source": [
        "trf.named_transformers_['imputer2'].statistics_\n"
      ],
      "metadata": {
        "id": "RQpIEmc-D0H-"
      },
      "execution_count": null,
      "outputs": []
    },
    {
      "cell_type": "code",
      "source": [
        "X_train = trf.transform(X_train)\n",
        "X_test = trf.transform(X_test)\n"
      ],
      "metadata": {
        "id": "xQyE5V-mD182"
      },
      "execution_count": null,
      "outputs": []
    },
    {
      "cell_type": "code",
      "source": [
        "X_train\n"
      ],
      "metadata": {
        "id": "T0vehE5fD3hV"
      },
      "execution_count": null,
      "outputs": []
    }
  ]
}